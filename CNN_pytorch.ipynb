{
  "nbformat": 4,
  "nbformat_minor": 0,
  "metadata": {
    "colab": {
      "provenance": [],
      "gpuType": "T4",
      "authorship_tag": "ABX9TyNaOrv6WiAK1Rmh386kwp86",
      "include_colab_link": true
    },
    "kernelspec": {
      "name": "python3",
      "display_name": "Python 3"
    },
    "language_info": {
      "name": "python"
    },
    "accelerator": "GPU"
  },
  "cells": [
    {
      "cell_type": "markdown",
      "metadata": {
        "id": "view-in-github",
        "colab_type": "text"
      },
      "source": [
        "<a href=\"https://colab.research.google.com/github/Kingx959/Neural-Networks/blob/main/CNN_pytorch.ipynb\" target=\"_parent\"><img src=\"https://colab.research.google.com/assets/colab-badge.svg\" alt=\"Open In Colab\"/></a>"
      ]
    },
    {
      "cell_type": "markdown",
      "source": [
        "standard list of imports used in pytorch to create neural networks."
      ],
      "metadata": {
        "id": "G54YwLcB0o-e"
      }
    },
    {
      "cell_type": "code",
      "execution_count": 1,
      "metadata": {
        "id": "Pehist0mzOvm"
      },
      "outputs": [],
      "source": [
        "import torch\n",
        "import torch.nn as nn\n",
        "import torch.nn.functional as F\n",
        "import torch.optim as optim\n",
        "import torchvision\n",
        "from torchvision import datasets, transforms\n",
        "from torch.utils.data import DataLoader\n",
        "import matplotlib.pyplot as plt\n",
        "import numpy as np\n",
        "\n",
        "device = torch.device('cuda' if torch.cuda.is_available() else 'cpu')"
      ]
    },
    {
      "cell_type": "code",
      "source": [
        "# Hyper-parameters\n",
        "num_epochs = 5\n",
        "\n",
        "# Dataset and transformation (no normalization yet)\n",
        "transform = transforms.Compose([\n",
        "    transforms.ToTensor()  # Only converting to tensor, no normalization yet\n",
        "])\n",
        "\n",
        "# CIFAR-10 dataset\n",
        "train_dataset = torchvision.datasets.CIFAR10(root='./data', train=True, download=True, transform=transform)\n",
        "test_dataset = torchvision.datasets.CIFAR10(root='./data', train=False, download=True, transform=transform)\n",
        "\n",
        "classes = ('plane', 'car', 'bird', 'cat', 'deer', 'dog', 'frog', 'horse', 'ship', 'truck')\n"
      ],
      "metadata": {
        "colab": {
          "base_uri": "https://localhost:8080/"
        },
        "id": "G3-8r_C2OAbc",
        "outputId": "c321a5c8-bafb-464e-b509-16e93bece673"
      },
      "execution_count": 2,
      "outputs": [
        {
          "output_type": "stream",
          "name": "stdout",
          "text": [
            "Files already downloaded and verified\n",
            "Files already downloaded and verified\n"
          ]
        }
      ]
    },
    {
      "cell_type": "code",
      "source": [
        "class ConvNet(nn.Module):\n",
        "    def __init__(self):\n",
        "        super(ConvNet, self).__init__()\n",
        "        self.conv1 = nn.Conv2d(3, 128, 5, padding=2)\n",
        "        self.bn1 = nn.BatchNorm2d(128)\n",
        "        self.pool = nn.MaxPool2d(2, 2)\n",
        "\n",
        "        self.conv2 = nn.Conv2d(128, 128, 5, padding=2)\n",
        "        self.bn2 = nn.BatchNorm2d(128)\n",
        "\n",
        "        self.conv3 = nn.Conv2d(128, 256, 3, padding=1)\n",
        "        self.bn3 = nn.BatchNorm2d(256)\n",
        "\n",
        "        self.conv4 = nn.Conv2d(256, 256, 3, padding=1)\n",
        "        self.bn4 = nn.BatchNorm2d(256)\n",
        "\n",
        "        self.fc1 = nn.Linear(256 * 4 * 4, 1024)\n",
        "        self.bn_fc1 = nn.BatchNorm1d(1024)\n",
        "        self.dropout1 = nn.Dropout(0.5)\n",
        "\n",
        "        self.fc2 = nn.Linear(1024, 512)\n",
        "        self.bn_fc2 = nn.BatchNorm1d(512)\n",
        "        self.dropout2 = nn.Dropout(0.5)\n",
        "\n",
        "        self.fc3 = nn.Linear(512, 10)\n",
        "\n",
        "    def forward(self, x):\n",
        "        x = self.pool(F.relu(self.bn1(self.conv1(x))))\n",
        "        x = self.pool(F.relu(self.bn2(self.conv2(x))))\n",
        "        x = F.relu(self.bn3(self.conv3(x)))\n",
        "        x = self.pool(F.relu(self.bn4(self.conv4(x))))\n",
        "\n",
        "        x = x.view(-1, 256 * 4 * 4) #flatten\n",
        "        x = F.relu(self.bn_fc1(self.fc1(x)))\n",
        "        x = self.dropout1(x)\n",
        "        x = F.relu(self.bn_fc2(self.fc2(x)))\n",
        "        x = self.dropout2(x)\n",
        "        x = self.fc3(x)\n",
        "\n",
        "        return x\n",
        "\n",
        "model = ConvNet()\n",
        "criterion = nn.CrossEntropyLoss()\n"
      ],
      "metadata": {
        "id": "RnUBHFS0OOlA"
      },
      "execution_count": 3,
      "outputs": []
    },
    {
      "cell_type": "code",
      "source": [
        "# Function to optimize batch size\n",
        "def optimize_batch_size(model, criterion, train_dataset, test_dataset, batch_sizes, num_epochs=2):\n",
        "    device = torch.device('cuda' if torch.cuda.is_available() else 'cpu')\n",
        "    results = {}\n",
        "\n",
        "    for batch_size in batch_sizes:\n",
        "        train_loader = DataLoader(train_dataset, batch_size=batch_size, shuffle=True)\n",
        "        test_loader = DataLoader(test_dataset, batch_size=batch_size, shuffle=False)\n",
        "\n",
        "        optimizer = torch.optim.SGD(model.parameters(), lr=0.01)  # Use a fixed learning rate for testing\n",
        "        model.to(device)\n",
        "\n",
        "        for epoch in range(num_epochs):\n",
        "            model.train()\n",
        "            for images, labels in train_loader:\n",
        "                images, labels = images.to(device), labels.to(device)\n",
        "                outputs = model(images)\n",
        "                loss = criterion(outputs, labels)\n",
        "\n",
        "                optimizer.zero_grad()\n",
        "                loss.backward()\n",
        "                optimizer.step()\n",
        "\n",
        "        model.eval()\n",
        "        n_correct = 0\n",
        "        n_samples = 0\n",
        "        with torch.no_grad():\n",
        "            for images, labels in test_loader:\n",
        "                images, labels = images.to(device), labels.to(device)\n",
        "                outputs = model(images)\n",
        "                _, predicted = torch.max(outputs, 1)\n",
        "                n_samples += labels.size(0)\n",
        "                n_correct += (predicted == labels).sum().item()\n",
        "\n",
        "        accuracy = 100.0 * n_correct / n_samples\n",
        "        results[batch_size] = accuracy\n",
        "        print(f'Batch Size: {batch_size}, Validation Accuracy: {accuracy:.2f}%')\n",
        "\n",
        "    optimal_batch_size = max(results, key=results.get)\n",
        "    print(f'Optimal Batch Size: {optimal_batch_size}')\n",
        "    return optimal_batch_size\n",
        "\n",
        "# Test different batch sizes\n",
        "batch_sizes = [16, 32, 64, 128, 256, 512]\n",
        "optimal_batch_size = optimize_batch_size(model, criterion, train_dataset, test_dataset, batch_sizes)\n"
      ],
      "metadata": {
        "colab": {
          "base_uri": "https://localhost:8080/"
        },
        "id": "3RDy8jBtOJq4",
        "outputId": "f99eb866-46f6-48f6-a5b8-c923e007ac9a"
      },
      "execution_count": 4,
      "outputs": [
        {
          "output_type": "stream",
          "name": "stdout",
          "text": [
            "Batch Size: 16, Validation Accuracy: 66.02%\n",
            "Batch Size: 32, Validation Accuracy: 49.33%\n",
            "Batch Size: 64, Validation Accuracy: 73.85%\n",
            "Batch Size: 128, Validation Accuracy: 80.04%\n",
            "Batch Size: 256, Validation Accuracy: 80.28%\n",
            "Batch Size: 512, Validation Accuracy: 81.81%\n",
            "Optimal Batch Size: 512\n"
          ]
        }
      ]
    },
    {
      "cell_type": "code",
      "source": [
        "# Use the optimal batch size to compute mean and std\n",
        "dataloader = DataLoader(train_dataset, batch_size=optimal_batch_size, shuffle=False)\n",
        "\n",
        "# Initialize sum and squared sum for calculating mean and std\n",
        "mean = torch.zeros(3)\n",
        "std = torch.zeros(3)\n",
        "num_samples = 0\n",
        "\n",
        "for images, _ in dataloader:\n",
        "    mean += images.mean([0, 2, 3]) * images.size(0)\n",
        "    std += images.std([0, 2, 3]) * images.size(0)\n",
        "    num_samples += images.size(0)\n",
        "\n",
        "mean /= num_samples\n",
        "std /= num_samples\n",
        "\n",
        "print('Mean:', mean)\n",
        "print('Standard Deviation:', std)\n"
      ],
      "metadata": {
        "colab": {
          "base_uri": "https://localhost:8080/"
        },
        "id": "iTYqv71uOWNC",
        "outputId": "e6f97145-367e-4bdd-cdc3-8c16be432c6d"
      },
      "execution_count": 5,
      "outputs": [
        {
          "output_type": "stream",
          "name": "stdout",
          "text": [
            "Mean: tensor([0.4914, 0.4822, 0.4465])\n",
            "Standard Deviation: tensor([0.2469, 0.2434, 0.2615])\n"
          ]
        }
      ]
    },
    {
      "cell_type": "code",
      "source": [
        "# Redefine transform with computed mean and std\n",
        "transform = transforms.Compose([\n",
        "    transforms.RandomHorizontalFlip(),\n",
        "    transforms.RandomCrop(32, padding=4),\n",
        "    transforms.ToTensor(),\n",
        "    transforms.Normalize(mean.tolist(), std.tolist())\n",
        "])\n",
        "\n",
        "# Reload the dataset with the new transform\n",
        "train_dataset = torchvision.datasets.CIFAR10(root='./data', train=True, download=True, transform=transform)\n",
        "test_dataset = torchvision.datasets.CIFAR10(root='./data', train=False, download=True, transform=transform)\n",
        "\n",
        "train_loader = DataLoader(train_dataset, batch_size=optimal_batch_size, shuffle=True)\n",
        "test_loader = DataLoader(test_dataset, batch_size=optimal_batch_size, shuffle=False)\n"
      ],
      "metadata": {
        "colab": {
          "base_uri": "https://localhost:8080/"
        },
        "id": "NlWZIEgyOaAk",
        "outputId": "a5b30f79-80fc-4b8f-cb0e-00a127032268"
      },
      "execution_count": 6,
      "outputs": [
        {
          "output_type": "stream",
          "name": "stdout",
          "text": [
            "Files already downloaded and verified\n",
            "Files already downloaded and verified\n"
          ]
        }
      ]
    },
    {
      "cell_type": "code",
      "source": [
        "# Learning rate range test\n",
        "initial_lr = 1e-7\n",
        "optimizer = torch.optim.AdamW(model.parameters(), lr=initial_lr)\n",
        "lrs = []\n",
        "losses = []\n",
        "\n",
        "# Learning rate range test loop\n",
        "print(\"Starting learning rate range test...\")\n",
        "for i, (images, labels) in enumerate(train_loader):\n",
        "    if i >= 1000:  # Limit the range test to 1000 iterations for efficiency\n",
        "        break\n",
        "    images, labels = images.to(device), labels.to(device)\n",
        "\n",
        "    # Forward pass\n",
        "    outputs = model(images)\n",
        "    loss = criterion(outputs, labels)\n",
        "\n",
        "    # Backward and optimize\n",
        "    optimizer.zero_grad()\n",
        "    loss.backward()\n",
        "    optimizer.step()\n",
        "\n",
        "    # Store learning rate and loss\n",
        "    lr = optimizer.param_groups[0]['lr']\n",
        "    lrs.append(lr)\n",
        "    losses.append(loss.item())\n",
        "\n",
        "    # Increase learning rate exponentially\n",
        "    optimizer.param_groups[0]['lr'] = lr * 1.1  # Increase by 10% each step\n",
        "\n",
        "# Plot learning rate vs loss\n",
        "plt.plot(lrs, losses)\n",
        "plt.xscale('log')\n",
        "plt.xlabel('Learning Rate')\n",
        "plt.ylabel('Loss')\n",
        "plt.title('Learning Rate Range Test')\n",
        "plt.show()\n"
      ],
      "metadata": {
        "id": "tKgrBnDsxqTq",
        "colab": {
          "base_uri": "https://localhost:8080/",
          "height": 493
        },
        "outputId": "2f0a8832-5000-4a35-cc20-01fec90045b2"
      },
      "execution_count": 7,
      "outputs": [
        {
          "output_type": "stream",
          "name": "stdout",
          "text": [
            "Starting learning rate range test...\n"
          ]
        },
        {
          "output_type": "display_data",
          "data": {
            "text/plain": [
              "<Figure size 640x480 with 1 Axes>"
            ],
            "image/png": "[encoded data removed]"
          },
          "metadata": {}
        }
      ]
    },
    {
      "cell_type": "code",
      "source": [
        "# After identifying the optimal learning rate from the plot, set it here\n",
        "optimal_lr = 0.001  # Replace this with the optimal learning rate found from the plot"
      ],
      "metadata": {
        "id": "50wUXH6cV4gj"
      },
      "execution_count": 8,
      "outputs": []
    },
    {
      "cell_type": "code",
      "source": [
        "def optimize_weight_decay(model, criterion, train_loader, test_loader, weight_decays, optimal_lr, num_epochs=2):\n",
        "    device = torch.device('cuda' if torch.cuda.is_available() else 'cpu')\n",
        "    results = {}\n",
        "\n",
        "    for wd in weight_decays:\n",
        "        optimizer = torch.optim.AdamW(model.parameters(), lr=optimal_lr, weight_decay=wd)\n",
        "        model.to(device)\n",
        "\n",
        "        for epoch in range(num_epochs):\n",
        "            model.train()\n",
        "            for images, labels in train_loader:\n",
        "                images, labels = images.to(device), labels.to(device)\n",
        "                outputs = model(images)\n",
        "                loss = criterion(outputs, labels)\n",
        "\n",
        "                optimizer.zero_grad()\n",
        "                loss.backward()\n",
        "                optimizer.step()\n",
        "\n",
        "        model.eval()\n",
        "        n_correct = 0\n",
        "        n_samples = 0\n",
        "        with torch.no_grad():\n",
        "            for images, labels in test_loader:\n",
        "                images, labels = images.to(device), labels.to(device)\n",
        "                outputs = model(images)\n",
        "                _, predicted = torch.max(outputs, 1)\n",
        "                n_samples += labels.size(0)\n",
        "                n_correct += (predicted == labels).sum().item()\n",
        "\n",
        "\n",
        "        accuracy = 100.0 * n_correct / n_samples\n",
        "        results[wd] = accuracy\n",
        "        print(f'Weight Decay: {wd}, Validation Accuracy: {accuracy:.2f}%')\n",
        "\n",
        "\n",
        "    optimal_wd = max(results, key=results.get)\n",
        "    print(f'Optimal Weight Decay: {optimal_wd}')\n",
        "    return optimal_wd\n",
        "\n",
        "weight_decays = [0.0, 0.01, 0.05, 0.1]\n",
        "optimal_wd = optimize_weight_decay(model, criterion, train_loader, test_loader, weight_decays, optimal_lr)"
      ],
      "metadata": {
        "colab": {
          "base_uri": "https://localhost:8080/"
        },
        "id": "nmEnuubNVoZJ",
        "outputId": "c54c2c3c-2dad-49f9-975a-002ce8b74256"
      },
      "execution_count": 9,
      "outputs": [
        {
          "output_type": "stream",
          "name": "stdout",
          "text": [
            "Weight Decay: 0.0, Validation Accuracy: 71.10%\n",
            "Weight Decay: 0.01, Validation Accuracy: 75.83%\n",
            "Weight Decay: 0.05, Validation Accuracy: 76.04%\n",
            "Weight Decay: 0.1, Validation Accuracy: 79.64%\n",
            "Optimal Weight Decay: 0.1\n"
          ]
        }
      ]
    },
    {
      "cell_type": "code",
      "source": [
        "# Define the optimizer with the optimal learning rate\n",
        "optimizer = torch.optim.AdamW(model.parameters(), lr=optimal_lr, weight_decay=optimal_wd)\n",
        "\n",
        "# Training loop\n",
        "print(\"Starting training with optimal learning rate and weight decay...\")\n",
        "n_total_steps = len(train_loader)\n",
        "for epoch in range(num_epochs):\n",
        "    for i, (images, labels) in enumerate(train_loader):\n",
        "        images, labels = images.to(device), labels.to(device)\n",
        "\n",
        "        # Forward pass\n",
        "        outputs = model(images)\n",
        "        loss = criterion(outputs, labels)\n",
        "\n",
        "        # Backward and optimize\n",
        "        optimizer.zero_grad()\n",
        "        loss.backward()\n",
        "        optimizer.step()\n",
        "\n",
        "        if (i+1) % 2000 == 0:\n",
        "            print(f'Epoch [{epoch+1}/{num_epochs}], Step [{i+1}/{n_total_steps}], Loss: {loss.item():.4f}')\n",
        "\n",
        "print('Finished Training')\n",
        "PATH = './cnn.pth'\n",
        "torch.save(model.state_dict(), PATH)\n"
      ],
      "metadata": {
        "colab": {
          "base_uri": "https://localhost:8080/"
        },
        "id": "Iw3Xh5uQOgXd",
        "outputId": "9db2c3ac-318f-4437-fbe3-daa93f0499f3"
      },
      "execution_count": 10,
      "outputs": [
        {
          "output_type": "stream",
          "name": "stdout",
          "text": [
            "Starting training with optimal learning rate and weight decay...\n",
            "Finished Training\n"
          ]
        }
      ]
    },
    {
      "cell_type": "markdown",
      "source": [
        "The block iterates over the test data, makes predictions, and calculates the accuracy for the overall network and each class individually."
      ],
      "metadata": {
        "id": "QUL47CPSjyhN"
      }
    },
    {
      "cell_type": "code",
      "source": [
        "with torch.no_grad():\n",
        "  n_correct = 0\n",
        "  n_samples = 0\n",
        "  n_class_correct = [0 for i in range(10)]\n",
        "  n_class_samples = [0 for i in range(10)]\n",
        "  for images, labels in test_loader:\n",
        "    images = images.to(device)\n",
        "    labels = labels.to(device)\n",
        "    outputs = model(images)\n",
        "    _, predicted = torch.max(outputs, 1)\n",
        "    n_samples += labels.size(0)\n",
        "    n_correct += (predicted == labels).sum().item()\n",
        "\n",
        "    for i in range(labels.size(0)):\n",
        "      label = labels[i]\n",
        "      pred = predicted[i]\n",
        "      if (label == pred):\n",
        "        n_class_correct[label] += 1\n",
        "      n_class_samples[label] += 1\n",
        "\n",
        "  acc = 100.0 * n_correct / n_samples\n",
        "  print(f'Accuracy of the network: {acc} %')\n",
        "\n",
        "  for i in range(10):\n",
        "    acc = 100.0 * n_class_correct[i] / n_class_samples[i]\n",
        "    print(f'Accuracy of {classes[i]}: {acc} %')"
      ],
      "metadata": {
        "colab": {
          "base_uri": "https://localhost:8080/"
        },
        "id": "GHaL0QXCPTbb",
        "outputId": "3804ff7a-3a28-488b-db5c-8e91c9c9acf5"
      },
      "execution_count": 11,
      "outputs": [
        {
          "output_type": "stream",
          "name": "stdout",
          "text": [
            "Accuracy of the network: 82.85 %\n",
            "Accuracy of plane: 78.6 %\n",
            "Accuracy of car: 93.3 %\n",
            "Accuracy of bird: 79.3 %\n",
            "Accuracy of cat: 72.0 %\n",
            "Accuracy of deer: 84.8 %\n",
            "Accuracy of dog: 73.4 %\n",
            "Accuracy of frog: 79.8 %\n",
            "Accuracy of horse: 83.8 %\n",
            "Accuracy of ship: 94.3 %\n",
            "Accuracy of truck: 89.2 %\n"
          ]
        }
      ]
    }
  ]
}