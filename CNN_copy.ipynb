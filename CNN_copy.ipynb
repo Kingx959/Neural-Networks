{
  "nbformat": 4,
  "nbformat_minor": 0,
  "metadata": {
    "colab": {
      "provenance": [],
      "gpuType": "T4",
      "authorship_tag": "ABX9TyNygq8sPHCn9J940fgURbZ/",
      "include_colab_link": true
    },
    "kernelspec": {
      "name": "python3",
      "display_name": "Python 3"
    },
    "language_info": {
      "name": "python"
    },
    "accelerator": "GPU"
  },
  "cells": [
    {
      "cell_type": "markdown",
      "metadata": {
        "id": "view-in-github",
        "colab_type": "text"
      },
      "source": [
        "<a href=\"https://colab.research.google.com/github/Kingx959/Neural-Networks/blob/main/CNN_copy.ipynb\" target=\"_parent\"><img src=\"https://colab.research.google.com/assets/colab-badge.svg\" alt=\"Open In Colab\"/></a>"
      ]
    },
    {
      "cell_type": "code",
      "execution_count": 1,
      "metadata": {
        "id": "0lBc9x54lCa7"
      },
      "outputs": [],
      "source": [
        "import torch\n",
        "import torch.nn as nn\n",
        "import torch.nn.functional as F\n",
        "import torch.optim as optim\n",
        "import torchvision\n",
        "from torchvision import datasets, transforms\n",
        "from torch.utils.data import DataLoader\n",
        "import torch.optim.lr_scheduler as lr_scheduler\n",
        "import matplotlib.pyplot as plt\n",
        "import numpy as np\n",
        "\n",
        "device = torch.device('cuda' if torch.cuda.is_available() else 'cpu')"
      ]
    },
    {
      "cell_type": "code",
      "source": [
        "num_epochs = 5\n",
        "\n",
        "# Dataset and transformation (no normalization yet)\n",
        "transform = transforms.Compose([\n",
        "    transforms.ToTensor()  # Only converting to tensor, no normalization yet\n",
        "])\n",
        "\n",
        "# CIFAR-10 dataset\n",
        "train_dataset = torchvision.datasets.CIFAR10(root='./data', train=True, download=True, transform=transform)\n",
        "test_dataset = torchvision.datasets.CIFAR10(root='./data', train=False, download=True, transform=transform)\n",
        "\n",
        "classes = ('plane', 'car', 'bird', 'cat', 'deer', 'dog', 'frog', 'horse', 'ship', 'truck')\n"
      ],
      "metadata": {
        "id": "DVZACpNQlLpZ",
        "colab": {
          "base_uri": "https://localhost:8080/"
        },
        "outputId": "81fca7be-dbf3-4939-f91c-4c5566dd78c3"
      },
      "execution_count": 2,
      "outputs": [
        {
          "output_type": "stream",
          "name": "stdout",
          "text": [
            "Downloading https://www.cs.toronto.edu/~kriz/cifar-10-python.tar.gz to ./data/cifar-10-python.tar.gz\n"
          ]
        },
        {
          "output_type": "stream",
          "name": "stderr",
          "text": [
            "100%|██████████| 170M/170M [00:13<00:00, 13.1MB/s]\n"
          ]
        },
        {
          "output_type": "stream",
          "name": "stdout",
          "text": [
            "Extracting ./data/cifar-10-python.tar.gz to ./data\n",
            "Files already downloaded and verified\n"
          ]
        }
      ]
    },
    {
      "cell_type": "code",
      "source": [
        "class ConvNet(nn.Module):\n",
        "    def __init__(self):\n",
        "        super(ConvNet, self).__init__()\n",
        "        self.conv1 = nn.Conv2d(3, 128, 5, padding=2)\n",
        "        self.bn1 = nn.BatchNorm2d(128)\n",
        "        self.pool = nn.MaxPool2d(2, 2)\n",
        "\n",
        "        self.conv2 = nn.Conv2d(128, 128, 5, padding=2)\n",
        "        self.bn2 = nn.BatchNorm2d(128)\n",
        "\n",
        "        self.conv3 = nn.Conv2d(128, 256, 3, padding=1)\n",
        "        self.bn3 = nn.BatchNorm2d(256)\n",
        "\n",
        "        self.conv4 = nn.Conv2d(256, 256, 3, padding=1)\n",
        "        self.bn4 = nn.BatchNorm2d(256)\n",
        "\n",
        "        self.fc1 = nn.Linear(256 * 4 * 4, 1024)\n",
        "        self.bn_fc1 = nn.BatchNorm1d(1024)\n",
        "        self.dropout1 = nn.Dropout(0.5)\n",
        "\n",
        "        self.fc2 = nn.Linear(1024, 512)\n",
        "        self.bn_fc2 = nn.BatchNorm1d(512)\n",
        "        self.dropout2 = nn.Dropout(0.5)\n",
        "\n",
        "        self.fc3 = nn.Linear(512, 10)\n",
        "\n",
        "    def forward(self, x):\n",
        "        x = self.pool(F.relu(self.bn1(self.conv1(x))))\n",
        "        x = self.pool(F.relu(self.bn2(self.conv2(x))))\n",
        "        x = F.relu(self.bn3(self.conv3(x)))\n",
        "        x = self.pool(F.relu(self.bn4(self.conv4(x))))\n",
        "\n",
        "        x = x.view(-1, 256 * 4 * 4) #flatten\n",
        "        x = F.relu(self.bn_fc1(self.fc1(x)))\n",
        "        x = self.dropout1(x)\n",
        "        x = F.relu(self.bn_fc2(self.fc2(x)))\n",
        "        x = self.dropout2(x)\n",
        "        x = self.fc3(x)\n",
        "\n",
        "        return x\n",
        "\n",
        "model = ConvNet()\n",
        "criterion = nn.CrossEntropyLoss()"
      ],
      "metadata": {
        "id": "OZnJEkgMlM7x"
      },
      "execution_count": 3,
      "outputs": []
    },
    {
      "cell_type": "code",
      "source": [
        "# Function to optimize batch size\n",
        "def optimize_batch_size(model, criterion, train_dataset, test_dataset, batch_sizes, num_epochs=2):\n",
        "    device = torch.device('cuda' if torch.cuda.is_available() else 'cpu')\n",
        "    results = {}\n",
        "\n",
        "    for batch_size in batch_sizes:\n",
        "        train_loader = DataLoader(train_dataset, batch_size=batch_size, shuffle=True)\n",
        "        test_loader = DataLoader(test_dataset, batch_size=batch_size, shuffle=False)\n",
        "\n",
        "        optimizer = torch.optim.SGD(model.parameters(), lr=0.01)  # Use a fixed learning rate for testing\n",
        "        model.to(device)\n",
        "\n",
        "        for epoch in range(num_epochs):\n",
        "            model.train()\n",
        "            for images, labels in train_loader:\n",
        "                images, labels = images.to(device), labels.to(device)\n",
        "                outputs = model(images)\n",
        "                loss = criterion(outputs, labels)\n",
        "\n",
        "                optimizer.zero_grad()\n",
        "                loss.backward()\n",
        "                optimizer.step()\n",
        "\n",
        "        model.eval()\n",
        "        n_correct = 0\n",
        "        n_samples = 0\n",
        "        with torch.no_grad():\n",
        "            for images, labels in test_loader:\n",
        "                images, labels = images.to(device), labels.to(device)\n",
        "                outputs = model(images)\n",
        "                _, predicted = torch.max(outputs, 1)\n",
        "                n_samples += labels.size(0)\n",
        "                n_correct += (predicted == labels).sum().item()\n",
        "\n",
        "        accuracy = 100.0 * n_correct / n_samples\n",
        "        results[batch_size] = accuracy\n",
        "        print(f'Batch Size: {batch_size}, Validation Accuracy: {accuracy:.2f}%')\n",
        "\n",
        "    optimal_batch_size = max(results, key=results.get)\n",
        "    print(f'Optimal Batch Size: {optimal_batch_size}')\n",
        "    return optimal_batch_size\n",
        "\n",
        "# Test different batch sizes\n",
        "batch_sizes = [16, 32, 64, 128, 256, 512]\n",
        "optimal_batch_size = optimize_batch_size(model, criterion, train_dataset, test_dataset, batch_sizes)"
      ],
      "metadata": {
        "id": "WoYRp38nlNNS",
        "colab": {
          "base_uri": "https://localhost:8080/"
        },
        "outputId": "100f6ec7-3076-43e5-827c-216673025113"
      },
      "execution_count": 4,
      "outputs": [
        {
          "output_type": "stream",
          "name": "stdout",
          "text": [
            "Batch Size: 16, Validation Accuracy: 61.20%\n",
            "Batch Size: 32, Validation Accuracy: 74.36%\n",
            "Batch Size: 64, Validation Accuracy: 77.77%\n",
            "Batch Size: 128, Validation Accuracy: 77.82%\n",
            "Batch Size: 256, Validation Accuracy: 80.66%\n",
            "Batch Size: 512, Validation Accuracy: 81.52%\n",
            "Optimal Batch Size: 512\n"
          ]
        }
      ]
    },
    {
      "cell_type": "code",
      "source": [
        "# Use the optimal batch size to compute mean and std\n",
        "dataloader = DataLoader(train_dataset, batch_size=optimal_batch_size, shuffle=False)\n",
        "\n",
        "# Initialize sum and squared sum for calculating mean and std\n",
        "mean = torch.zeros(3)\n",
        "std = torch.zeros(3)\n",
        "num_samples = 0\n",
        "\n",
        "for images, _ in dataloader:\n",
        "    mean += images.mean([0, 2, 3]) * images.size(0)\n",
        "    std += images.std([0, 2, 3]) * images.size(0)\n",
        "    num_samples += images.size(0)\n",
        "\n",
        "mean /= num_samples\n",
        "std /= num_samples\n",
        "\n",
        "print('Mean:', mean)\n",
        "print('Standard Deviation:', std)\n"
      ],
      "metadata": {
        "id": "lOPWDyKLlNcu",
        "colab": {
          "base_uri": "https://localhost:8080/"
        },
        "outputId": "c6562551-813c-43bc-8d37-1c49e1ea03f3"
      },
      "execution_count": 5,
      "outputs": [
        {
          "output_type": "stream",
          "name": "stdout",
          "text": [
            "Mean: tensor([0.4914, 0.4822, 0.4465])\n",
            "Standard Deviation: tensor([0.2469, 0.2434, 0.2615])\n"
          ]
        }
      ]
    },
    {
      "cell_type": "code",
      "source": [
        "# Redefine transform with computed mean and std\n",
        "transform = transforms.Compose([\n",
        "    transforms.RandomHorizontalFlip(),\n",
        "    transforms.RandomCrop(32, padding=4),\n",
        "    transforms.ToTensor(),\n",
        "    transforms.Normalize(mean.tolist(), std.tolist())\n",
        "])\n",
        "\n",
        "# Reload the dataset with the new transform\n",
        "train_dataset = torchvision.datasets.CIFAR10(root='./data', train=True, download=True, transform=transform)\n",
        "test_dataset = torchvision.datasets.CIFAR10(root='./data', train=False, download=True, transform=transform)\n",
        "\n",
        "train_loader = DataLoader(train_dataset, batch_size=optimal_batch_size, shuffle=True)\n",
        "test_loader = DataLoader(test_dataset, batch_size=optimal_batch_size, shuffle=False)"
      ],
      "metadata": {
        "id": "2SicRKMGlNu0",
        "colab": {
          "base_uri": "https://localhost:8080/"
        },
        "outputId": "c614acff-47f0-40e4-cd3a-4ecc2499a20d"
      },
      "execution_count": 6,
      "outputs": [
        {
          "output_type": "stream",
          "name": "stdout",
          "text": [
            "Files already downloaded and verified\n",
            "Files already downloaded and verified\n"
          ]
        }
      ]
    },
    {
      "cell_type": "code",
      "source": [
        "# Learning rate range test\n",
        "initial_lr = 1e-7\n",
        "optimizer = torch.optim.AdamW(model.parameters(), lr=initial_lr)\n",
        "lrs = []\n",
        "losses = []\n",
        "\n",
        "# Learning rate range test loop\n",
        "print(\"Starting learning rate range test...\")\n",
        "for i, (images, labels) in enumerate(train_loader):\n",
        "    if i >= 1000:  # Limit the range test to 1000 iterations for efficiency\n",
        "        break\n",
        "    images, labels = images.to(device), labels.to(device)\n",
        "\n",
        "    # Forward pass\n",
        "    outputs = model(images)\n",
        "    loss = criterion(outputs, labels)\n",
        "\n",
        "    # Backward and optimize\n",
        "    optimizer.zero_grad()\n",
        "    loss.backward()\n",
        "    optimizer.step()\n",
        "\n",
        "    # Store learning rate and loss\n",
        "    lr = optimizer.param_groups[0]['lr']\n",
        "    lrs.append(lr)\n",
        "    losses.append(loss.item())\n",
        "\n",
        "    # Increase learning rate exponentially\n",
        "    optimizer.param_groups[0]['lr'] = lr * 1.1  # Increase by 10% each step\n",
        "\n",
        "# Plot learning rate vs loss\n",
        "plt.plot(lrs, losses)\n",
        "plt.xscale('log')\n",
        "plt.xlabel('Learning Rate')\n",
        "plt.ylabel('Loss')\n",
        "plt.title('Learning Rate Range Test')\n",
        "plt.show()"
      ],
      "metadata": {
        "id": "bBr7J3BvlN-l",
        "colab": {
          "base_uri": "https://localhost:8080/",
          "height": 493
        },
        "outputId": "214576ac-369b-453f-e3fd-b3ba83521d1d"
      },
      "execution_count": 7,
      "outputs": [
        {
          "output_type": "stream",
          "name": "stdout",
          "text": [
            "Starting learning rate range test...\n"
          ]
        },
        {
          "output_type": "display_data",
          "data": {
            "text/plain": [
              "<Figure size 640x480 with 1 Axes>"
            ],
            "image/png": "[encoded data removed]"
          },
          "metadata": {}
        }
      ]
    },
    {
      "cell_type": "code",
      "source": [
        "# After identifying the optimal learning rate from the plot, set it here\n",
        "optimal_lr = 0.001  # Replace this with the optimal learning rate found from the plot"
      ],
      "metadata": {
        "id": "1E31GF5Vlhce"
      },
      "execution_count": 8,
      "outputs": []
    },
    {
      "cell_type": "code",
      "source": [
        "def optimize_weight_decay(model, criterion, train_loader, test_loader, weight_decays, optimal_lr, num_epochs=2):\n",
        "    device = torch.device('cuda' if torch.cuda.is_available() else 'cpu')\n",
        "    results = {}\n",
        "\n",
        "    for wd in weight_decays:\n",
        "        optimizer = torch.optim.AdamW(model.parameters(), lr=optimal_lr, weight_decay=wd)\n",
        "        model.to(device)\n",
        "\n",
        "        for epoch in range(num_epochs):\n",
        "            model.train()\n",
        "            for images, labels in train_loader:\n",
        "                images, labels = images.to(device), labels.to(device)\n",
        "                outputs = model(images)\n",
        "                loss = criterion(outputs, labels)\n",
        "\n",
        "                optimizer.zero_grad()\n",
        "                loss.backward()\n",
        "                optimizer.step()\n",
        "\n",
        "        model.eval()\n",
        "        n_correct = 0\n",
        "        n_samples = 0\n",
        "        with torch.no_grad():\n",
        "            for images, labels in test_loader:\n",
        "                images, labels = images.to(device), labels.to(device)\n",
        "                outputs = model(images)\n",
        "                _, predicted = torch.max(outputs, 1)\n",
        "                n_samples += labels.size(0)\n",
        "                n_correct += (predicted == labels).sum().item()\n",
        "\n",
        "\n",
        "        accuracy = 100.0 * n_correct / n_samples\n",
        "        results[wd] = accuracy\n",
        "        print(f'Weight Decay: {wd}, Validation Accuracy: {accuracy:.2f}%')\n",
        "\n",
        "\n",
        "    optimal_wd = max(results, key=results.get)\n",
        "    print(f'Optimal Weight Decay: {optimal_wd}')\n",
        "    return optimal_wd\n",
        "\n",
        "weight_decays = [0.0, 0.01, 0.05, 0.1]\n",
        "optimal_wd = optimize_weight_decay(model, criterion, train_loader, test_loader, weight_decays, optimal_lr)"
      ],
      "metadata": {
        "id": "L83VM8rMliOt",
        "colab": {
          "base_uri": "https://localhost:8080/"
        },
        "outputId": "4efa54f2-3fff-41a9-e785-8a0b4fe62204"
      },
      "execution_count": 9,
      "outputs": [
        {
          "output_type": "stream",
          "name": "stdout",
          "text": [
            "Weight Decay: 0.0, Validation Accuracy: 66.07%\n",
            "Weight Decay: 0.01, Validation Accuracy: 77.80%\n",
            "Weight Decay: 0.05, Validation Accuracy: 78.87%\n",
            "Weight Decay: 0.1, Validation Accuracy: 74.57%\n",
            "Optimal Weight Decay: 0.05\n"
          ]
        }
      ]
    },
    {
      "cell_type": "code",
      "source": [
        "# Define the optimizer with the optimal learning rate\n",
        "optimizer = torch.optim.AdamW(model.parameters(), lr=optimal_lr, weight_decay=optimal_wd)\n",
        "\n",
        "# Define the Cosine Annealing Learning Rate Scheduler\n",
        "scheduler = lr_scheduler.CosineAnnealingLR(optimizer, T_max=num_epochs)\n",
        "\n",
        "# Training loop with learning rate scheduler\n",
        "print(\"Starting training with optimal learning rate and weight decay...\")\n",
        "n_total_steps = len(train_loader)\n",
        "for epoch in range(num_epochs):\n",
        "    for i, (images, labels) in enumerate(train_loader):\n",
        "        images, labels = images.to(device), labels.to(device)\n",
        "\n",
        "        # Forward pass\n",
        "        outputs = model(images)\n",
        "        loss = criterion(outputs, labels)\n",
        "\n",
        "        # Backward and optimize\n",
        "        optimizer.zero_grad()\n",
        "        loss.backward()\n",
        "        optimizer.step()\n",
        "\n",
        "        if (i+1) % 200 == 0:  # Adjust this value based on your total steps for periodic logging\n",
        "            print(f'Epoch [{epoch+1}/{num_epochs}], Step [{i+1}/{n_total_steps}], Loss: {loss.item():.4f}')\n",
        "\n",
        "    # Step the scheduler at the end of each epoch\n",
        "    scheduler.step()\n",
        "\n",
        "    # Optional: Log or print the current learning rate\n",
        "    current_lr = scheduler.get_last_lr()[0]\n",
        "    print(f'Epoch {epoch+1}/{num_epochs}, Learning Rate: {current_lr:.6f}')\n",
        "\n",
        "print('Finished Training')\n",
        "PATH = './cnn.pth'\n",
        "torch.save(model.state_dict(), PATH)\n"
      ],
      "metadata": {
        "id": "USLRO6x5ljTI",
        "colab": {
          "base_uri": "https://localhost:8080/"
        },
        "outputId": "0c8e4850-9e5f-4a10-893c-4284e760116e"
      },
      "execution_count": 10,
      "outputs": [
        {
          "output_type": "stream",
          "name": "stdout",
          "text": [
            "Starting training with optimal learning rate and weight decay...\n",
            "Epoch 1/5, Learning Rate: 0.000905\n",
            "Epoch 2/5, Learning Rate: 0.000655\n",
            "Epoch 3/5, Learning Rate: 0.000345\n",
            "Epoch 4/5, Learning Rate: 0.000095\n",
            "Epoch 5/5, Learning Rate: 0.000000\n",
            "Finished Training\n"
          ]
        }
      ]
    },
    {
      "cell_type": "code",
      "source": [
        "with torch.no_grad():\n",
        "  n_correct = 0\n",
        "  n_samples = 0\n",
        "  n_class_correct = [0 for i in range(10)]\n",
        "  n_class_samples = [0 for i in range(10)]\n",
        "  for images, labels in test_loader:\n",
        "    images = images.to(device)\n",
        "    labels = labels.to(device)\n",
        "    outputs = model(images)\n",
        "    _, predicted = torch.max(outputs, 1)\n",
        "    n_samples += labels.size(0)\n",
        "    n_correct += (predicted == labels).sum().item()\n",
        "\n",
        "    for i in range(labels.size(0)):\n",
        "      label = labels[i]\n",
        "      pred = predicted[i]\n",
        "      if (label == pred):\n",
        "        n_class_correct[label] += 1\n",
        "      n_class_samples[label] += 1\n",
        "\n",
        "  acc = 100.0 * n_correct / n_samples\n",
        "  print(f'Accuracy of the network: {acc} %')\n",
        "\n",
        "  for i in range(10):\n",
        "    acc = 100.0 * n_class_correct[i] / n_class_samples[i]\n",
        "    print(f'Accuracy of {classes[i]}: {acc} %')"
      ],
      "metadata": {
        "id": "T7qgXPzmljkB",
        "colab": {
          "base_uri": "https://localhost:8080/"
        },
        "outputId": "b889b939-6a14-47a3-8210-528bdfe0637d"
      },
      "execution_count": 11,
      "outputs": [
        {
          "output_type": "stream",
          "name": "stdout",
          "text": [
            "Accuracy of the network: 84.6 %\n",
            "Accuracy of plane: 86.6 %\n",
            "Accuracy of car: 92.6 %\n",
            "Accuracy of bird: 72.9 %\n",
            "Accuracy of cat: 67.6 %\n",
            "Accuracy of deer: 83.0 %\n",
            "Accuracy of dog: 79.5 %\n",
            "Accuracy of frog: 92.2 %\n",
            "Accuracy of horse: 89.4 %\n",
            "Accuracy of ship: 91.9 %\n",
            "Accuracy of truck: 90.3 %\n"
          ]
        }
      ]
    }
  ]
}