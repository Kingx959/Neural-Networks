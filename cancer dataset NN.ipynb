{
 "cells": [
  {
   "cell_type": "markdown",
   "id": "d49c7786",
   "metadata": {},
   "source": [
    "# basic NN"
   ]
  },
  {
   "cell_type": "code",
   "execution_count": 1,
   "id": "c30de899",
   "metadata": {},
   "outputs": [
    {
     "name": "stdout",
     "output_type": "stream",
     "text": [
      "Epoch 1/10\n",
      "25/25 [==============================] - 2s 21ms/step - loss: 0.4537 - tp: 69.0000 - tn: 222.0000 - fp: 6.0000 - fn: 67.0000 - auc: 0.8823 - precision: 0.9200 - recall: 0.5074 - val_loss: 0.2492 - val_tp: 26.0000 - val_tn: 57.0000 - val_fp: 1.0000 - val_fn: 7.0000 - val_auc: 0.9869 - val_precision: 0.9630 - val_recall: 0.7879\n",
      "Epoch 2/10\n",
      "25/25 [==============================] - 0s 3ms/step - loss: 0.1889 - tp: 121.0000 - tn: 223.0000 - fp: 5.0000 - fn: 15.0000 - auc: 0.9890 - precision: 0.9603 - recall: 0.8897 - val_loss: 0.1602 - val_tp: 30.0000 - val_tn: 57.0000 - val_fp: 1.0000 - val_fn: 3.0000 - val_auc: 0.9890 - val_precision: 0.9677 - val_recall: 0.9091\n",
      "Epoch 3/10\n",
      "25/25 [==============================] - 0s 3ms/step - loss: 0.1225 - tp: 128.0000 - tn: 223.0000 - fp: 5.0000 - fn: 8.0000 - auc: 0.9930 - precision: 0.9624 - recall: 0.9412 - val_loss: 0.1299 - val_tp: 32.0000 - val_tn: 57.0000 - val_fp: 1.0000 - val_fn: 1.0000 - val_auc: 0.9893 - val_precision: 0.9697 - val_recall: 0.9697\n",
      "Epoch 4/10\n",
      "25/25 [==============================] - 0s 3ms/step - loss: 0.0935 - tp: 131.0000 - tn: 223.0000 - fp: 5.0000 - fn: 5.0000 - auc: 0.9954 - precision: 0.9632 - recall: 0.9632 - val_loss: 0.1186 - val_tp: 32.0000 - val_tn: 57.0000 - val_fp: 1.0000 - val_fn: 1.0000 - val_auc: 0.9906 - val_precision: 0.9697 - val_recall: 0.9697\n",
      "Epoch 5/10\n",
      "25/25 [==============================] - 0s 4ms/step - loss: 0.0752 - tp: 133.0000 - tn: 226.0000 - fp: 2.0000 - fn: 3.0000 - auc: 0.9968 - precision: 0.9852 - recall: 0.9779 - val_loss: 0.1113 - val_tp: 32.0000 - val_tn: 57.0000 - val_fp: 1.0000 - val_fn: 1.0000 - val_auc: 0.9909 - val_precision: 0.9697 - val_recall: 0.9697\n",
      "Epoch 6/10\n",
      "25/25 [==============================] - 0s 4ms/step - loss: 0.0644 - tp: 133.0000 - tn: 226.0000 - fp: 2.0000 - fn: 3.0000 - auc: 0.9974 - precision: 0.9852 - recall: 0.9779 - val_loss: 0.1066 - val_tp: 32.0000 - val_tn: 57.0000 - val_fp: 1.0000 - val_fn: 1.0000 - val_auc: 0.9906 - val_precision: 0.9697 - val_recall: 0.9697\n",
      "Epoch 7/10\n",
      "25/25 [==============================] - 0s 3ms/step - loss: 0.0568 - tp: 133.0000 - tn: 226.0000 - fp: 2.0000 - fn: 3.0000 - auc: 0.9980 - precision: 0.9852 - recall: 0.9779 - val_loss: 0.1028 - val_tp: 32.0000 - val_tn: 57.0000 - val_fp: 1.0000 - val_fn: 1.0000 - val_auc: 0.9919 - val_precision: 0.9697 - val_recall: 0.9697\n",
      "Epoch 8/10\n",
      "25/25 [==============================] - 0s 3ms/step - loss: 0.0504 - tp: 133.0000 - tn: 226.0000 - fp: 2.0000 - fn: 3.0000 - auc: 0.9982 - precision: 0.9852 - recall: 0.9779 - val_loss: 0.1015 - val_tp: 32.0000 - val_tn: 57.0000 - val_fp: 1.0000 - val_fn: 1.0000 - val_auc: 0.9922 - val_precision: 0.9697 - val_recall: 0.9697\n",
      "Epoch 9/10\n",
      "25/25 [==============================] - 0s 4ms/step - loss: 0.0454 - tp: 134.0000 - tn: 226.0000 - fp: 2.0000 - fn: 2.0000 - auc: 0.9987 - precision: 0.9853 - recall: 0.9853 - val_loss: 0.0980 - val_tp: 32.0000 - val_tn: 56.0000 - val_fp: 2.0000 - val_fn: 1.0000 - val_auc: 0.9948 - val_precision: 0.9412 - val_recall: 0.9697\n",
      "Epoch 10/10\n",
      "25/25 [==============================] - 0s 3ms/step - loss: 0.0406 - tp: 134.0000 - tn: 226.0000 - fp: 2.0000 - fn: 2.0000 - auc: 0.9990 - precision: 0.9853 - recall: 0.9853 - val_loss: 0.0956 - val_tp: 32.0000 - val_tn: 56.0000 - val_fp: 2.0000 - val_fn: 1.0000 - val_auc: 0.9945 - val_precision: 0.9412 - val_recall: 0.9697\n",
      "4/4 [==============================] - 0s 6ms/step\n",
      "Classification Report:\n",
      "               precision    recall  f1-score   support\n",
      "\n",
      "     class_0       0.99      0.96      0.97        71\n",
      "     class_1       0.93      0.98      0.95        43\n",
      "\n",
      "    accuracy                           0.96       114\n",
      "   macro avg       0.96      0.97      0.96       114\n",
      "weighted avg       0.97      0.96      0.97       114\n",
      "\n",
      "AUC-ROC Score: 0.9672453324598755\n"
     ]
    }
   ],
   "source": [
    "import pandas as pd\n",
    "import numpy as np\n",
    "import tensorflow as tf\n",
    "from sklearn.model_selection import train_test_split\n",
    "from sklearn.preprocessing import StandardScaler\n",
    "from tensorflow.keras.metrics import TruePositives, TrueNegatives, FalsePositives, FalseNegatives, AUC, Precision, Recall\n",
    "from sklearn.metrics import classification_report, roc_auc_score\n",
    "import joblib\n",
    "\n",
    "# Read CSV file into a pandas DataFrame\n",
    "data = pd.read_csv('Cancer_Data.csv')\n",
    "\n",
    "# Separate features and target\n",
    "X = data.drop('diagnosis', axis=1)\n",
    "y = data['diagnosis']\n",
    "\n",
    "# Perform one-hot encoding for the binary target variable\n",
    "y_encoded = pd.get_dummies(y, columns=['diagnosis'], drop_first=True)\n",
    "\n",
    "# Split the data into training and testing sets\n",
    "X_train, X_test, y_train, y_test = train_test_split(X, y_encoded, test_size=0.2, random_state=42)\n",
    "\n",
    "# Standardize the features\n",
    "scaler = StandardScaler()\n",
    "X_train = scaler.fit_transform(X_train)\n",
    "X_test = scaler.transform(X_test)\n",
    "\n",
    "joblib.dump(scaler, 'scaler_model.pkl')\n",
    "\n",
    "\n",
    "# 3 hidden layers\n",
    "model = tf.keras.Sequential([\n",
    "    tf.keras.layers.Input(shape=(X_train.shape[1],)),\n",
    "    tf.keras.layers.Dense(64, activation='relu'),\n",
    "    tf.keras.layers.Dense(32, activation='relu'),\n",
    "    tf.keras.layers.Dense(1, activation='sigmoid')\n",
    "])\n",
    "\n",
    "# Compile the model\n",
    "# Compile the model with desired metrics\n",
    "model.compile(optimizer='adam', loss='binary_crossentropy', metrics=[\n",
    "    TruePositives(name='tp'),\n",
    "    TrueNegatives(name='tn'),\n",
    "    FalsePositives(name='fp'),\n",
    "    FalseNegatives(name='fn'),\n",
    "    AUC(name='auc'),\n",
    "    Precision(name='precision'),\n",
    "    Recall(name='recall')\n",
    "])\n",
    "\n",
    "# Train the model\n",
    "model.fit(X_train, y_train, epochs=10, batch_size=15, verbose=1, validation_split=0.2)\n",
    "\n",
    "\n",
    "# Predict on the scaled testing data\n",
    "y_pred = model.predict(X_test)\n",
    "\n",
    "y_pred_binary = np.round(y_pred)  # Convert probabilities to binary predictions\n",
    "\n",
    "\n",
    "\n",
    "\n",
    "# Calculate and print classification report\n",
    "classification_rep = classification_report(y_test, y_pred_binary, target_names=[\"class_0\", \"class_1\"])\n",
    "print(\"Classification Report:\\n\", classification_rep)\n",
    "\n",
    "# Calculate and print AUC-ROC score\n",
    "auc_roc = roc_auc_score(y_test, y_pred_binary)\n",
    "print(\"AUC-ROC Score:\", auc_roc)\n",
    "\n"
   ]
  },
  {
   "cell_type": "code",
   "execution_count": 2,
   "id": "e18af30b",
   "metadata": {},
   "outputs": [
    {
     "data": {
      "text/plain": [
       "['NN_model.pkl']"
      ]
     },
     "execution_count": 2,
     "metadata": {},
     "output_type": "execute_result"
    }
   ],
   "source": [
    "#save model\n",
    "import joblib\n",
    "\n",
    "joblib.dump(model, 'NN_model.pkl')"
   ]
  },
  {
   "cell_type": "code",
   "execution_count": 3,
   "id": "98e4a84a",
   "metadata": {},
   "outputs": [
    {
     "name": "stdout",
     "output_type": "stream",
     "text": [
      "   M\n",
      "0  1\n",
      "1  1\n",
      "2  1\n",
      "3  1\n",
      "4  1\n"
     ]
    }
   ],
   "source": [
    "y_encoded = pd.get_dummies(data['diagnosis'], drop_first=True)\n",
    "print(y_encoded.head())"
   ]
  },
  {
   "cell_type": "code",
   "execution_count": 4,
   "id": "73620325",
   "metadata": {},
   "outputs": [],
   "source": [
    "import joblib\n",
    "import pandas as pd\n",
    "\n",
    "mp = joblib.load('NN_model.pkl')  # For scikit-learn versions < 0.24\n",
    "# For scikit-learn versions >= 0.24, use:\n",
    "# loaded_model = load('trained_model.pkl')\n",
    "\n",
    "sp = joblib.load('scaler_model.pkl')\n",
    "\n"
   ]
  },
  {
   "cell_type": "code",
   "execution_count": 7,
   "id": "579d2025",
   "metadata": {},
   "outputs": [
    {
     "name": "stdout",
     "output_type": "stream",
     "text": [
      "1/1 [==============================] - 0s 15ms/step\n",
      "1/1 [==============================] - 0s 18ms/step\n",
      "[[1]]\n",
      "[[0.99997634]]\n"
     ]
    }
   ],
   "source": [
    "new_data = pd.read_csv('MpracticeData.csv')\n",
    "\n",
    "new_data_scaled = scaler.transform(new_data)\n",
    "\n",
    "# Make predictions using the loaded model on the scaled new data\n",
    "new_predictions = mp.predict(new_data_scaled)\n",
    "\n",
    "prediction_probabilities = mp.predict(new_data_scaled)\n",
    "positive_class_probabilities = prediction_probabilities[:, 0]\n",
    "\n",
    "# Convert the predictions to binary classes (0 or 1)\n",
    "binary_predictions = (new_predictions > 0.5).astype(int)\n",
    "\n",
    "# Print the binary predictions\n",
    "print(binary_predictions)\n",
    "print(new_predictions)\n",
    "\n",
    "\n"
   ]
  },
  {
   "cell_type": "markdown",
   "id": "c8e58b4d",
   "metadata": {},
   "source": [
    "# more complicated NN"
   ]
  },
  {
   "cell_type": "code",
   "execution_count": null,
   "id": "ebf5378a",
   "metadata": {},
   "outputs": [],
   "source": [
    "import pandas as pd\n",
    "import numpy as np\n",
    "import tensorflow as tf\n",
    "from sklearn.model_selection import train_test_split\n",
    "from sklearn.preprocessing import StandardScaler\n",
    "from sklearn.metrics import accuracy_score\n",
    "\n",
    "# Read CSV file into a pandas DataFrame\n",
    "data = pd.read_csv('Cancer_Data.csv')\n",
    "\n",
    "# Separate features and target\n",
    "X = data.drop('diagnosis', axis=1)\n",
    "y = data['diagnosis']\n",
    "\n",
    "# Perform one-hot encoding for the binary target variable\n",
    "y_encoded = pd.get_dummies(y, columns=['diagnosis'], drop_first=True)\n",
    "\n",
    "# Split the data into training and testing sets\n",
    "X_train, X_test, y_train, y_test = train_test_split(X, y_encoded, test_size=0.2, random_state=42)\n",
    "\n",
    "# Standardize the features\n",
    "scaler = StandardScaler()\n",
    "X_train = scaler.fit_transform(X_train)\n",
    "X_test = scaler.transform(X_test)\n",
    "\n",
    "# 4 hidden layers\n",
    "model = tf.keras.Sequential([\n",
    "    tf.keras.layers.Input(shape=(X_train.shape[1],)),\n",
    "    tf.keras.layers.Dense(128, activation='relu'),\n",
    "    tf.keras.layers.Dropout(0.3),\n",
    "    tf.keras.layers.Dense(64, activation='relu'),\n",
    "    tf.keras.layers.Dropout(0.3),\n",
    "    tf.keras.layers.Dense(32, activation='relu'),\n",
    "    tf.keras.layers.Dropout(0.3),\n",
    "    tf.keras.layers.Dense(1, activation='sigmoid')\n",
    "])\n",
    "\n",
    "# Compile the model\n",
    "model.compile(optimizer='adam', loss='binary_crossentropy', metrics=['accuracy'])\n",
    "\n",
    "# Train the model\n",
    "model.fit(X_train, y_train, epochs=100, batch_size=32, verbose=1, validation_split=0.2)\n",
    "\n",
    "# Evaluate the model on the test data\n",
    "y_pred = model.predict(X_test)\n",
    "y_pred_binary = (y_pred > 0.5).astype(int)\n",
    "\n",
    "accuracy = accuracy_score(y_test, y_pred_binary)\n",
    "print(\"Accuracy:\", accuracy)\n"
   ]
  },
  {
   "cell_type": "code",
   "execution_count": null,
   "id": "35231859",
   "metadata": {},
   "outputs": [],
   "source": [
    "import pandas as pd\n",
    "import numpy as np\n",
    "import tensorflow as tf\n",
    "from sklearn.model_selection import train_test_split\n",
    "from sklearn.preprocessing import StandardScaler\n",
    "from sklearn.metrics import accuracy_score\n",
    "\n",
    "# Read CSV file into a pandas DataFrame\n",
    "data = pd.read_csv('Cancer_Data.csv')\n",
    "\n",
    "# Separate features and target\n",
    "X = data.drop('diagnosis', axis=1)\n",
    "y = data['diagnosis']\n",
    "\n",
    "# Perform one-hot encoding for the binary target variable\n",
    "y_encoded = pd.get_dummies(y, columns=['diagnosis'], drop_first=True)\n",
    "\n",
    "# Split the data into training and testing sets\n",
    "X_train, X_test, y_train, y_test = train_test_split(X, y_encoded, test_size=0.2, random_state=42)\n",
    "\n",
    "# Standardize the features\n",
    "scaler = StandardScaler()\n",
    "X_train = scaler.fit_transform(X_train)\n",
    "X_test = scaler.transform(X_test)\n",
    "\n",
    "# 6 hidden layers\n",
    "model = keras.Sequential([\n",
    "    layers.Input(shape=(num_features,)),\n",
    "    layers.Dense(512, activation='relu'),\n",
    "    layers.BatchNormalization(),\n",
    "    layers.Dropout(0.5),\n",
    "    layers.Dense(256, activation='relu'),\n",
    "    layers.BatchNormalization(),\n",
    "    layers.Dropout(0.5),\n",
    "    layers.Dense(128, activation='relu'),\n",
    "    layers.BatchNormalization(),\n",
    "    layers.Dropout(0.5),\n",
    "    layers.Dense(64, activation='relu'),\n",
    "    layers.BatchNormalization(),\n",
    "    layers.Dropout(0.5),\n",
    "    layers.Dense(1, activation='sigmoid')\n",
    "])\n",
    "\n",
    "# Compile the model\n",
    "model.compile(optimizer='adam', loss='binary_crossentropy', metrics=['accuracy'])\n",
    "\n",
    "# Train the model\n",
    "model.fit(X, y, epochs=10, batch_size=32, verbose=1, validation_split=0.2)\n",
    "\n",
    "# Evaluate the model on the test data\n",
    "y_pred = model.predict(X_test)\n",
    "y_pred_binary = (y_pred > 0.5).astype(int)\n",
    "\n",
    "accuracy = accuracy_score(y_test, y_pred_binary)\n",
    "print(\"Accuracy:\", accuracy)\n",
    "\n"
   ]
  },
  {
   "cell_type": "markdown",
   "id": "633dbce9",
   "metadata": {},
   "source": [
    "# SVM"
   ]
  },
  {
   "cell_type": "code",
   "execution_count": null,
   "id": "d71d2027",
   "metadata": {},
   "outputs": [],
   "source": [
    "import pandas as pd\n",
    "from sklearn.model_selection import train_test_split\n",
    "from sklearn.svm import SVC\n",
    "from sklearn.metrics import accuracy_score\n",
    "\n",
    "# Load the CSV data using pandas\n",
    "data = pd.read_csv('Cancer_Data.csv')\n",
    "\n",
    "X = data.drop('diagnosis', axis=1)\n",
    "y = data['diagnosis']\n",
    "\n",
    "# Perform one-hot encoding for the binary target variable\n",
    "y_encoded = pd.get_dummies(y, columns=['diagnosis'], drop_first=True)\n",
    "\n",
    "\n"
   ]
  },
  {
   "cell_type": "code",
   "execution_count": null,
   "id": "9b2a3e99",
   "metadata": {},
   "outputs": [],
   "source": [
    "# Split the dataset into training and testing sets\n",
    "X_train, X_test, y_train, y_test = train_test_split(X, y, test_size=0.3, random_state=42)\n",
    "\n",
    "# Create a Support Vector Machine (SVM) model\n",
    "svm_model = SVC(kernel='rbf')  # You can choose different kernel functions like 'rbf' for non-linear data\n",
    "\n",
    "# Train the SVM model on the training data\n",
    "svm_model.fit(X_train, y_train)\n",
    "\n",
    "# Make predictions on the test data\n",
    "y_pred = svm_model.predict(X_test)\n",
    "\n"
   ]
  },
  {
   "cell_type": "code",
   "execution_count": null,
   "id": "50bb2306",
   "metadata": {},
   "outputs": [],
   "source": [
    "# Calculate and print the accuracy of the model\n",
    "accuracy = accuracy_score(y_test, y_pred)\n",
    "print(f\"Accuracy: {accuracy:.2f}\")"
   ]
  },
  {
   "cell_type": "code",
   "execution_count": null,
   "id": "c186ca57",
   "metadata": {},
   "outputs": [],
   "source": []
  }
 ],
 "metadata": {
  "kernelspec": {
   "display_name": "Python 3 (ipykernel)",
   "language": "python",
   "name": "python3"
  },
  "language_info": {
   "codemirror_mode": {
    "name": "ipython",
    "version": 3
   },
   "file_extension": ".py",
   "mimetype": "text/x-python",
   "name": "python",
   "nbconvert_exporter": "python",
   "pygments_lexer": "ipython3",
   "version": "3.10.9"
  }
 },
 "nbformat": 4,
 "nbformat_minor": 5
}
