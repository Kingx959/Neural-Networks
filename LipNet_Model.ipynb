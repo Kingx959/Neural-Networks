{
  "metadata": {
    "kernelspec": {
      "display_name": "Python 3",
      "name": "python3"
    },
    "language_info": {
      "name": "python",
      "version": "3.10.12",
      "mimetype": "text/x-python",
      "codemirror_mode": {
        "name": "ipython",
        "version": 3
      },
      "pygments_lexer": "ipython3",
      "nbconvert_exporter": "python",
      "file_extension": ".py"
    },
    "kaggle": {
      "accelerator": "none",
      "dataSources": [
        {
          "sourceId": 5676755,
          "sourceType": "datasetVersion",
          "datasetId": 3263390
        }
      ],
      "dockerImageVersionId": 30822,
      "isInternetEnabled": true,
      "language": "python",
      "sourceType": "notebook",
      "isGpuEnabled": false
    },
    "colab": {
      "name": "LipNet Model",
      "provenance": [],
      "gpuType": "T4",
      "include_colab_link": true
    },
    "accelerator": "GPU"
  },
  "nbformat_minor": 0,
  "nbformat": 4,
  "cells": [
    {
      "cell_type": "markdown",
      "metadata": {
        "id": "view-in-github",
        "colab_type": "text"
      },
      "source": [
        "<a href=\"https://colab.research.google.com/github/Kingx959/Neural-Networks/blob/main/LipNet_Model.ipynb\" target=\"_parent\"><img src=\"https://colab.research.google.com/assets/colab-badge.svg\" alt=\"Open In Colab\"/></a>"
      ]
    },
    {
      "cell_type": "code",
      "source": [
        "import os\n",
        "import cv2\n",
        "import tensorflow as tf\n",
        "import numpy as np\n",
        "from typing import List\n",
        "from matplotlib import pyplot as plt\n",
        "import imageio"
      ],
      "metadata": {
        "trusted": true,
        "execution": {
          "iopub.status.busy": "2025-01-03T19:17:24.565195Z",
          "iopub.execute_input": "2025-01-03T19:17:24.565757Z",
          "iopub.status.idle": "2025-01-03T19:17:28.415076Z",
          "shell.execute_reply.started": "2025-01-03T19:17:24.565721Z",
          "shell.execute_reply": "2025-01-03T19:17:28.413741Z"
        },
        "id": "XHZK-6ZjpqPD"
      },
      "outputs": [],
      "execution_count": 1
    },
    {
      "cell_type": "code",
      "source": [
        "tf.config.list_physical_device('GPU')"
      ],
      "metadata": {
        "trusted": true,
        "id": "Evx-5K4hpqPE"
      },
      "outputs": [],
      "execution_count": null
    },
    {
      "cell_type": "markdown",
      "source": [
        "tensorflow automatically utilizes a GPU if there is one present but by default, TensorFlow tries to preallocate nearly all the GPU memory available on the selected GPU. This behavior can cause problems in specific situations: Scenario: Suppose you are running multiple deep learning scripts (or TensorFlow instances) on the same GPU.\n",
        "Problem: TensorFlow preallocates almost all available GPU memory, leaving little to no memory for other processes. This can cause other applications or scripts to fail with an \"out of memory\" error."
      ],
      "metadata": {
        "id": "Nmo-WuQcpqPE"
      }
    },
    {
      "cell_type": "code",
      "source": [
        "physical_devices = tf.config.list_physical_devices('GPU')\n",
        "try:\n",
        "    tf.config.experimental.set_memory_growth(physical_devices[0], True)\n",
        "except:\n",
        "    pass"
      ],
      "metadata": {
        "trusted": true,
        "id": "KLc_IqE0pqPF"
      },
      "outputs": [],
      "execution_count": null
    },
    {
      "cell_type": "code",
      "source": [
        "import gdown"
      ],
      "metadata": {
        "id": "yNJFN7cYqqzd"
      },
      "execution_count": 2,
      "outputs": []
    },
    {
      "cell_type": "code",
      "source": [
        "url = 'https://drive.google.com/uc?id=1YlvpDLix3S-U8fd-gqRwPcWXAXm8JwjL'\n",
        "output = 'data.zip'\n",
        "gdown.download(url, output, quiet=False)\n",
        "gdown.extractall('data.zip')"
      ],
      "metadata": {
        "collapsed": true,
        "id": "8ioAgKVVqtN-"
      },
      "execution_count": null,
      "outputs": []
    },
    {
      "cell_type": "markdown",
      "source": [
        "This function handles the loading and preprocessing of video files.\n",
        "It first reads in frames of the video using cv2.VideoCapture.\n",
        "Then, it preprocesses each frame by converting it to grayscale and performing cropping (frame[190:236, 80:220, :]), to focus on specific parts of the video (such as the area around the mouth for lip reading).\n",
        "Finally, it normalizes the frames by subtracting the mean and dividing by the standard deviation, so that the pixel values are centered and scaled. This is a typical step in deep learning models to ensure the input data has better statistical properties, facilitating more effective training."
      ],
      "metadata": {
        "id": "zuugf5CupqPG"
      }
    },
    {
      "cell_type": "code",
      "source": [
        "def load_video(path:str) ->List[float]:\n",
        "\n",
        "    cap = cv2.VideoCapture(path)\n",
        "    frames = []\n",
        "    for _ in range(int(cap.get(cv2.CAP_PROP_FRAME_COUNT))):\n",
        "        ret, frame = cap.read()\n",
        "        frame = tf.image.rgb_to_grayscale(frame)\n",
        "        frames.append(frame[190:236,80:220,:])\n",
        "    cap.release()\n",
        "\n",
        "    mean = tf.math.reduce_mean(frames)\n",
        "    std = tf.math.reduce_std(tf.cast(frames, tf.float32))\n",
        "    return tf.cast((frames - mean), tf.float32) / std"
      ],
      "metadata": {
        "trusted": true,
        "execution": {
          "iopub.status.busy": "2025-01-03T19:17:30.381204Z",
          "iopub.execute_input": "2025-01-03T19:17:30.381947Z",
          "iopub.status.idle": "2025-01-03T19:17:30.391807Z",
          "shell.execute_reply.started": "2025-01-03T19:17:30.381908Z",
          "shell.execute_reply": "2025-01-03T19:17:30.389366Z"
        },
        "id": "sbhJEQ9CpqPG"
      },
      "outputs": [],
      "execution_count": 4
    },
    {
      "cell_type": "markdown",
      "source": [
        "we define our vocabulary"
      ],
      "metadata": {
        "id": "GQyDRkpCpqPH"
      }
    },
    {
      "cell_type": "code",
      "source": [
        "vocab = [x for x in \"abcdefghijklmnopqrstuvwxyz'?!123456789 \"]"
      ],
      "metadata": {
        "trusted": true,
        "execution": {
          "iopub.status.busy": "2025-01-03T19:17:39.369216Z",
          "iopub.execute_input": "2025-01-03T19:17:39.369554Z",
          "iopub.status.idle": "2025-01-03T19:17:39.37469Z",
          "shell.execute_reply.started": "2025-01-03T19:17:39.369526Z",
          "shell.execute_reply": "2025-01-03T19:17:39.373291Z"
        },
        "id": "zw9O6lI7pqPH"
      },
      "outputs": [],
      "execution_count": 5
    },
    {
      "cell_type": "markdown",
      "source": [
        "This chunk of code is for encoding and decoding sequences of words. oov stand for out of vocab, a term used when a model encounters tokens (words or characters) that are not present in the defined vocab. It replaces the oov tokens with a special token which helps it handle unknown or unseen words effectively during training and inference."
      ],
      "metadata": {
        "id": "CAi8tVVQpqPH"
      }
    },
    {
      "cell_type": "code",
      "source": [
        "char_to_num = tf.keras.layers.StringLookup(vocabulary=vocab, oov_token=\"\")\n",
        "num_to_char = tf.keras.layers.StringLookup(\n",
        "    vocabulary=char_to_num.get_vocabulary(), oov_token=\"\", invert=True\n",
        ")\n",
        "\n",
        "print(\n",
        "    f\"The vocabulary is: {char_to_num.get_vocabulary()} \"\n",
        "    f\"(size ={char_to_num.vocabulary_size()})\"\n",
        ")"
      ],
      "metadata": {
        "trusted": true,
        "execution": {
          "iopub.status.busy": "2025-01-03T19:17:41.837732Z",
          "iopub.execute_input": "2025-01-03T19:17:41.838439Z",
          "iopub.status.idle": "2025-01-03T19:17:41.909309Z",
          "shell.execute_reply.started": "2025-01-03T19:17:41.838395Z",
          "shell.execute_reply": "2025-01-03T19:17:41.907875Z"
        },
        "colab": {
          "base_uri": "https://localhost:8080/"
        },
        "id": "IYcwgRBApqPH",
        "outputId": "3f77de6e-ae76-4bc2-fd57-b51537b4f9d7"
      },
      "outputs": [
        {
          "output_type": "stream",
          "name": "stdout",
          "text": [
            "The vocabulary is: ['', 'a', 'b', 'c', 'd', 'e', 'f', 'g', 'h', 'i', 'j', 'k', 'l', 'm', 'n', 'o', 'p', 'q', 'r', 's', 't', 'u', 'v', 'w', 'x', 'y', 'z', \"'\", '?', '!', '1', '2', '3', '4', '5', '6', '7', '8', '9', ' '] (size =40)\n"
          ]
        }
      ],
      "execution_count": 6
    },
    {
      "cell_type": "code",
      "source": [
        "char_to_num.get_vocabulary()"
      ],
      "metadata": {
        "trusted": true,
        "execution": {
          "iopub.status.busy": "2025-01-03T19:17:46.171846Z",
          "iopub.execute_input": "2025-01-03T19:17:46.172205Z",
          "iopub.status.idle": "2025-01-03T19:17:46.182121Z",
          "shell.execute_reply.started": "2025-01-03T19:17:46.172177Z",
          "shell.execute_reply": "2025-01-03T19:17:46.180974Z"
        },
        "collapsed": true,
        "jupyter": {
          "outputs_hidden": true
        },
        "colab": {
          "base_uri": "https://localhost:8080/"
        },
        "id": "OJglCmMDpqPI",
        "outputId": "b81ec7b8-9834-4b9d-c7a3-8e4006d03636"
      },
      "outputs": [
        {
          "output_type": "execute_result",
          "data": {
            "text/plain": [
              "['',\n",
              " 'a',\n",
              " 'b',\n",
              " 'c',\n",
              " 'd',\n",
              " 'e',\n",
              " 'f',\n",
              " 'g',\n",
              " 'h',\n",
              " 'i',\n",
              " 'j',\n",
              " 'k',\n",
              " 'l',\n",
              " 'm',\n",
              " 'n',\n",
              " 'o',\n",
              " 'p',\n",
              " 'q',\n",
              " 'r',\n",
              " 's',\n",
              " 't',\n",
              " 'u',\n",
              " 'v',\n",
              " 'w',\n",
              " 'x',\n",
              " 'y',\n",
              " 'z',\n",
              " \"'\",\n",
              " '?',\n",
              " '!',\n",
              " '1',\n",
              " '2',\n",
              " '3',\n",
              " '4',\n",
              " '5',\n",
              " '6',\n",
              " '7',\n",
              " '8',\n",
              " '9',\n",
              " ' ']"
            ]
          },
          "metadata": {},
          "execution_count": 7
        }
      ],
      "execution_count": 7
    },
    {
      "cell_type": "code",
      "source": [
        "char_to_num(['m','a','t','t','h','e','w'])"
      ],
      "metadata": {
        "trusted": true,
        "execution": {
          "iopub.status.busy": "2025-01-03T19:17:53.109105Z",
          "iopub.execute_input": "2025-01-03T19:17:53.109499Z",
          "iopub.status.idle": "2025-01-03T19:17:53.123294Z",
          "shell.execute_reply.started": "2025-01-03T19:17:53.109463Z",
          "shell.execute_reply": "2025-01-03T19:17:53.12175Z"
        },
        "colab": {
          "base_uri": "https://localhost:8080/"
        },
        "id": "b1MJQRfgpqPI",
        "outputId": "81c1a8cb-b0ed-4e04-c568-4a9ae21fa6a8"
      },
      "outputs": [
        {
          "output_type": "execute_result",
          "data": {
            "text/plain": [
              "<tf.Tensor: shape=(7,), dtype=int64, numpy=array([13,  1, 20, 20,  8,  5, 23])>"
            ]
          },
          "metadata": {},
          "execution_count": 8
        }
      ],
      "execution_count": 8
    },
    {
      "cell_type": "code",
      "source": [
        "num_to_char([13,1,20,20,8,5,23])   #output has a 'b' in front of each letter letting us know that this is a byte encoded value."
      ],
      "metadata": {
        "trusted": true,
        "execution": {
          "iopub.status.busy": "2025-01-03T19:17:57.841308Z",
          "iopub.execute_input": "2025-01-03T19:17:57.84191Z",
          "iopub.status.idle": "2025-01-03T19:17:57.853374Z",
          "shell.execute_reply.started": "2025-01-03T19:17:57.841859Z",
          "shell.execute_reply": "2025-01-03T19:17:57.85183Z"
        },
        "colab": {
          "base_uri": "https://localhost:8080/"
        },
        "id": "9P-Z8VKdpqPI",
        "outputId": "0348fca5-ce4b-47b9-9b6b-fa667cb8c464"
      },
      "outputs": [
        {
          "output_type": "execute_result",
          "data": {
            "text/plain": [
              "<tf.Tensor: shape=(7,), dtype=string, numpy=array([b'm', b'a', b't', b't', b'h', b'e', b'w'], dtype=object)>"
            ]
          },
          "metadata": {},
          "execution_count": 9
        }
      ],
      "execution_count": 9
    },
    {
      "cell_type": "markdown",
      "source": [
        "This function loads the alignment labels (such as the spoken text or phonemes) associated with a video.\n",
        "It first reads the alignment file (which might be a transcript or label file) and processes the labels line-by-line.\n",
        "Any non-silence labels ('sil') are added to the list of tokens.\n",
        "The tokens (which represent characters or phonemes) are converted to indices using char_to_num. This step is crucial because the model typically works with numerical data (instead of raw strings), and you need to map each word or character to a corresponding numerical identifier."
      ],
      "metadata": {
        "id": "T86r2SgBpqPI"
      }
    },
    {
      "cell_type": "code",
      "source": [
        "def load_alignments(path:str) -> List[str]:\n",
        "    with open(path, 'r') as f:\n",
        "        lines = f.readlines()\n",
        "    tokens = []\n",
        "    for line in lines:\n",
        "        line = line.split()\n",
        "        if line[2] != 'sil':\n",
        "            tokens = [*tokens,' ',line[2]]\n",
        "    return char_to_num(tf.reshape(tf.strings.unicode_split(tokens, input_encoding='UTF-8'), (-1)))[1:]"
      ],
      "metadata": {
        "trusted": true,
        "execution": {
          "iopub.status.busy": "2025-01-03T19:18:02.17427Z",
          "iopub.execute_input": "2025-01-03T19:18:02.174815Z",
          "iopub.status.idle": "2025-01-03T19:18:02.183211Z",
          "shell.execute_reply.started": "2025-01-03T19:18:02.174758Z",
          "shell.execute_reply": "2025-01-03T19:18:02.181551Z"
        },
        "id": "5ftRjraMpqPI"
      },
      "outputs": [],
      "execution_count": 9
    },
    {
      "cell_type": "markdown",
      "source": [
        "This function combines the tasks performed by load_video and load_alignments.\n",
        "First, the path (the file path) is decoded, split, and used to extract the name of the video file (i.e., bbal6n from bbal6n.mpg).\n",
        "It then constructs the full paths to both the video file (.mpg) and its corresponding alignment file (.align).\n",
        "It calls the load_video() and load_alignments() functions to obtain the processed video frames and the tokenized alignment.\n",
        "The function returns both the frames and the alignments as a tuple. These will be used as the inputs and labels during model training."
      ],
      "metadata": {
        "id": "c7bX5nFNpqPJ"
      }
    },
    {
      "cell_type": "code",
      "source": [
        "def load_data(path: str):\n",
        "    path = bytes.decode(path.numpy())\n",
        "    file_name = path.split('/')[-1].split('.')[0]\n",
        "\n",
        "\n",
        "    video_path = os.path.join('data','s1',f'{file_name}.mpg')\n",
        "    alignment_path = os.path.join('data','alignments','s1',f'{file_name}.align')\n",
        "    frames = load_video(video_path)\n",
        "    alignments = load_alignments(alignment_path)\n",
        "\n",
        "    return frames, alignments"
      ],
      "metadata": {
        "trusted": true,
        "execution": {
          "iopub.status.busy": "2025-01-03T19:18:23.90351Z",
          "iopub.execute_input": "2025-01-03T19:18:23.903971Z",
          "iopub.status.idle": "2025-01-03T19:18:23.910695Z",
          "shell.execute_reply.started": "2025-01-03T19:18:23.903932Z",
          "shell.execute_reply": "2025-01-03T19:18:23.909134Z"
        },
        "id": "eP65rEjmpqPJ"
      },
      "outputs": [],
      "execution_count": 18
    },
    {
      "cell_type": "code",
      "source": [
        "test_path = './data/s1/bbal6n.mpg'"
      ],
      "metadata": {
        "trusted": true,
        "execution": {
          "iopub.status.busy": "2025-01-03T19:18:29.19504Z",
          "iopub.execute_input": "2025-01-03T19:18:29.195418Z",
          "iopub.status.idle": "2025-01-03T19:18:29.200359Z",
          "shell.execute_reply.started": "2025-01-03T19:18:29.195385Z",
          "shell.execute_reply": "2025-01-03T19:18:29.198757Z"
        },
        "id": "h4Ka1NoBpqPJ"
      },
      "outputs": [],
      "execution_count": 19
    },
    {
      "cell_type": "code",
      "source": [
        "tf.convert_to_tensor(test_path).numpy().decode('utf-8').split('/')[-1].split('.')[0]"
      ],
      "metadata": {
        "trusted": true,
        "execution": {
          "iopub.status.busy": "2025-01-03T19:18:34.718029Z",
          "iopub.execute_input": "2025-01-03T19:18:34.718426Z",
          "iopub.status.idle": "2025-01-03T19:18:34.726947Z",
          "shell.execute_reply.started": "2025-01-03T19:18:34.718392Z",
          "shell.execute_reply": "2025-01-03T19:18:34.725151Z"
        },
        "colab": {
          "base_uri": "https://localhost:8080/",
          "height": 35
        },
        "id": "iqdPIqMOpqPJ",
        "outputId": "3900d81b-cc49-43d4-cf5b-53613b90b92f"
      },
      "outputs": [
        {
          "output_type": "execute_result",
          "data": {
            "text/plain": [
              "'bbal6n'"
            ],
            "application/vnd.google.colaboratory.intrinsic+json": {
              "type": "string"
            }
          },
          "metadata": {},
          "execution_count": 20
        }
      ],
      "execution_count": 20
    },
    {
      "cell_type": "code",
      "source": [
        "frames, alignments = load_data(tf.convert_to_tensor(test_path))"
      ],
      "metadata": {
        "trusted": true,
        "execution": {
          "iopub.status.busy": "2025-01-03T19:18:52.282658Z",
          "iopub.execute_input": "2025-01-03T19:18:52.283069Z",
          "iopub.status.idle": "2025-01-03T19:18:52.87287Z",
          "shell.execute_reply.started": "2025-01-03T19:18:52.283036Z",
          "shell.execute_reply": "2025-01-03T19:18:52.870743Z"
        },
        "id": "eynyg4AypqPJ"
      },
      "outputs": [],
      "execution_count": 21
    },
    {
      "cell_type": "code",
      "source": [
        "plt.imshow(frames[40])"
      ],
      "metadata": {
        "trusted": true,
        "execution": {
          "iopub.status.busy": "2025-01-03T19:18:55.879288Z",
          "iopub.execute_input": "2025-01-03T19:18:55.879678Z",
          "iopub.status.idle": "2025-01-03T19:18:56.185462Z",
          "shell.execute_reply.started": "2025-01-03T19:18:55.879645Z",
          "shell.execute_reply": "2025-01-03T19:18:56.18385Z"
        },
        "colab": {
          "base_uri": "https://localhost:8080/",
          "height": 244
        },
        "id": "5iYJDhVjpqPJ",
        "outputId": "69828edc-baa7-46fd-a601-0cec7e0eaed0"
      },
      "outputs": [
        {
          "output_type": "execute_result",
          "data": {
            "text/plain": [
              "<matplotlib.image.AxesImage at 0x7d5243571ff0>"
            ]
          },
          "metadata": {},
          "execution_count": 22
        },
        {
          "output_type": "display_data",
          "data": {
            "text/plain": [
              "<Figure size 640x480 with 1 Axes>"
            ],
            "image/png": "[encoded data removed]"
          },
          "metadata": {}
        }
      ],
      "execution_count": 22
    },
    {
      "cell_type": "code",
      "source": [
        "alignments"
      ],
      "metadata": {
        "trusted": true,
        "execution": {
          "iopub.status.busy": "2025-01-03T19:19:04.621471Z",
          "iopub.execute_input": "2025-01-03T19:19:04.621849Z",
          "iopub.status.idle": "2025-01-03T19:19:04.630394Z",
          "shell.execute_reply.started": "2025-01-03T19:19:04.621817Z",
          "shell.execute_reply": "2025-01-03T19:19:04.628958Z"
        },
        "id": "mURryS_SpqPJ",
        "outputId": "f891d8d9-6be7-4917-b3e7-8569b4e2cb51"
      },
      "outputs": [
        {
          "execution_count": 15,
          "output_type": "execute_result",
          "data": {
            "text/plain": "<tf.Tensor: shape=(21,), dtype=int64, numpy=\narray([ 2,  9, 14, 39,  2, 12, 21,  5, 39,  1, 20, 39, 12, 39, 19,  9, 24,\n       39, 14, 15, 23])>"
          },
          "metadata": {}
        }
      ],
      "execution_count": null
    },
    {
      "cell_type": "code",
      "source": [
        "tf.strings.reduce_join([bytes.decode(x) for x in num_to_char(alignments.numpy()).numpy()])"
      ],
      "metadata": {
        "trusted": true,
        "execution": {
          "iopub.status.busy": "2025-01-03T19:19:11.025073Z",
          "iopub.execute_input": "2025-01-03T19:19:11.025687Z",
          "iopub.status.idle": "2025-01-03T19:19:11.039749Z",
          "shell.execute_reply.started": "2025-01-03T19:19:11.025631Z",
          "shell.execute_reply": "2025-01-03T19:19:11.037901Z"
        },
        "colab": {
          "base_uri": "https://localhost:8080/"
        },
        "id": "5J3D6id9pqPJ",
        "outputId": "1a9cdf3e-08c0-472a-ac12-3c87352f092e"
      },
      "outputs": [
        {
          "output_type": "execute_result",
          "data": {
            "text/plain": [
              "<tf.Tensor: shape=(), dtype=string, numpy=b'bin blue at l six now'>"
            ]
          },
          "metadata": {},
          "execution_count": 23
        }
      ],
      "execution_count": 23
    },
    {
      "cell_type": "markdown",
      "source": [
        "This function is a wrapper that makes the load_data function compatible with TensorFlow's tf.data pipeline.\n",
        "tf.data.Dataset expects functions that take a single argument (a path, in this case) and return a tuple of data elements. The tf.py_function allows you to use arbitrary Python functions (like load_data) in TensorFlow's dataset pipeline, but it has some caveats around performance and gradient tracking.\n",
        "tf.py_function runs the load_data function and ensures that the return type is correct: tf.float32 for the frames and tf.int64 for the alignments (which represent the labels).\n",
        "The mappable function enables efficient batch processing, as it's now integrated with the TensorFlow pipeline, and each file (path) will be processed individually, allowing the model to handle large amounts of data without exhausting memory."
      ],
      "metadata": {
        "id": "NC7AN29VpqPJ"
      }
    },
    {
      "cell_type": "code",
      "source": [
        "def mappable_function(path:str) ->List[str]:\n",
        "    result = tf.py_function(load_data, [path], (tf.float32, tf.int64))\n",
        "    return result"
      ],
      "metadata": {
        "trusted": true,
        "execution": {
          "iopub.status.busy": "2025-01-03T19:19:18.148208Z",
          "iopub.execute_input": "2025-01-03T19:19:18.148595Z",
          "iopub.status.idle": "2025-01-03T19:19:18.155568Z",
          "shell.execute_reply.started": "2025-01-03T19:19:18.148561Z",
          "shell.execute_reply": "2025-01-03T19:19:18.153328Z"
        },
        "id": "p-kz69kKpqPK"
      },
      "outputs": [],
      "execution_count": 24
    },
    {
      "cell_type": "markdown",
      "source": [
        "Creating a data pipeline. This chunk of code is using TensorFlow’s tf.data API to efficiently load, preprocess, and split data for training and testing a lipreading model."
      ],
      "metadata": {
        "id": "c_Cibg5ApqPK"
      }
    },
    {
      "cell_type": "code",
      "source": [
        "data = tf.data.Dataset.list_files('./data/s1/*.mpg')  #This line generates a dataset containing all .mpg video files located in the specified directory\n",
        "data = data.shuffle(500, reshuffle_each_iteration=False)  #Shuffling the dataset ensures that the model sees the data in a random order. The number 500 indicates the buffer size. False prevents shuffling on each iteration.\n",
        "data = data.map(mappable_function)\n",
        "data = data.padded_batch(2, padded_shapes=([75,None,None,None],[40]))  #batches the dataset into chunks of size 2, 75 frames. padding ensures shorter sequences are padded to match the longest sequence(40 tokens)\n",
        "data = data.prefetch(tf.data.AUTOTUNE)  #prefetches data, meaning the data loading and preprocessing will happen asynchronously while the model is training. This helps optimize the data pipeline.\n",
        "# Added for split\n",
        "train = data.take(450)  #creates a subset of the first 450 batches from the shuffled data. These will be our training data\n",
        "test = data.skip(450)  #creates a subset that skips the first 450 batches. These will be our test data."
      ],
      "metadata": {
        "trusted": true,
        "execution": {
          "iopub.status.busy": "2025-01-03T19:29:39.609583Z",
          "iopub.execute_input": "2025-01-03T19:29:39.610002Z",
          "iopub.status.idle": "2025-01-03T19:29:40.191997Z",
          "shell.execute_reply.started": "2025-01-03T19:29:39.609969Z",
          "shell.execute_reply": "2025-01-03T19:29:40.190888Z"
        },
        "id": "T1AQ9ZLPpqPK"
      },
      "outputs": [],
      "execution_count": 25
    },
    {
      "cell_type": "code",
      "source": [
        "len(test)"
      ],
      "metadata": {
        "trusted": true,
        "execution": {
          "iopub.status.busy": "2025-01-03T19:29:57.057577Z",
          "iopub.execute_input": "2025-01-03T19:29:57.057975Z",
          "iopub.status.idle": "2025-01-03T19:29:57.065322Z",
          "shell.execute_reply.started": "2025-01-03T19:29:57.057942Z",
          "shell.execute_reply": "2025-01-03T19:29:57.064031Z"
        },
        "colab": {
          "base_uri": "https://localhost:8080/"
        },
        "id": "RXS9ND0hpqPK",
        "outputId": "2e3ef0d5-2b05-4c06-e2c9-c5053939a66a"
      },
      "outputs": [
        {
          "output_type": "execute_result",
          "data": {
            "text/plain": [
              "50"
            ]
          },
          "metadata": {},
          "execution_count": 26
        }
      ],
      "execution_count": 26
    },
    {
      "cell_type": "code",
      "source": [
        "len(alignments)"
      ],
      "metadata": {
        "trusted": true,
        "execution": {
          "iopub.status.busy": "2025-01-03T19:24:45.078814Z",
          "iopub.execute_input": "2025-01-03T19:24:45.079193Z",
          "iopub.status.idle": "2025-01-03T19:24:45.08645Z",
          "shell.execute_reply.started": "2025-01-03T19:24:45.07916Z",
          "shell.execute_reply": "2025-01-03T19:24:45.085027Z"
        },
        "colab": {
          "base_uri": "https://localhost:8080/"
        },
        "id": "8zVNEpC3pqPK",
        "outputId": "72336175-abaf-4ede-e4db-25662d653113"
      },
      "outputs": [
        {
          "output_type": "execute_result",
          "data": {
            "text/plain": [
              "2"
            ]
          },
          "metadata": {},
          "execution_count": 32
        }
      ],
      "execution_count": 32
    },
    {
      "cell_type": "code",
      "source": [
        "frames, alignments = data.as_numpy_iterator().next()"
      ],
      "metadata": {
        "trusted": true,
        "execution": {
          "iopub.status.busy": "2025-01-03T19:20:10.905521Z",
          "iopub.execute_input": "2025-01-03T19:20:10.905939Z",
          "iopub.status.idle": "2025-01-03T19:20:12.005564Z",
          "shell.execute_reply.started": "2025-01-03T19:20:10.905906Z",
          "shell.execute_reply": "2025-01-03T19:20:12.004364Z"
        },
        "id": "mJplUzMnpqPK"
      },
      "outputs": [],
      "execution_count": 28
    },
    {
      "cell_type": "code",
      "source": [
        "alignments"
      ],
      "metadata": {
        "trusted": true,
        "execution": {
          "iopub.status.busy": "2025-01-03T19:23:53.153974Z",
          "iopub.execute_input": "2025-01-03T19:23:53.154359Z",
          "iopub.status.idle": "2025-01-03T19:23:53.161575Z",
          "shell.execute_reply.started": "2025-01-03T19:23:53.154329Z",
          "shell.execute_reply": "2025-01-03T19:23:53.160131Z"
        },
        "colab": {
          "base_uri": "https://localhost:8080/"
        },
        "id": "MV31fhldpqPK",
        "outputId": "b54e869f-f40a-4101-d4ef-c91235d88841"
      },
      "outputs": [
        {
          "output_type": "execute_result",
          "data": {
            "text/plain": [
              "array([[12,  1, 25, 39,  2, 12, 21,  5, 39,  1, 20, 39, 25, 39, 26,  5,\n",
              "        18, 15, 39, 16, 12,  5,  1, 19,  5,  0,  0,  0,  0,  0,  0,  0,\n",
              "         0,  0,  0,  0,  0,  0,  0,  0],\n",
              "       [12,  1, 25, 39,  7, 18,  5,  5, 14, 39, 23,  9, 20,  8, 39, 20,\n",
              "        39, 20,  8, 18,  5,  5, 39,  1,  7,  1,  9, 14,  0,  0,  0,  0,\n",
              "         0,  0,  0,  0,  0,  0,  0,  0]])"
            ]
          },
          "metadata": {},
          "execution_count": 29
        }
      ],
      "execution_count": 29
    },
    {
      "cell_type": "code",
      "source": [
        "frames"
      ],
      "metadata": {
        "trusted": true,
        "execution": {
          "iopub.status.busy": "2025-01-03T19:24:21.092037Z",
          "iopub.execute_input": "2025-01-03T19:24:21.092401Z",
          "iopub.status.idle": "2025-01-03T19:24:21.107974Z",
          "shell.execute_reply.started": "2025-01-03T19:24:21.092374Z",
          "shell.execute_reply": "2025-01-03T19:24:21.106263Z"
        },
        "collapsed": true,
        "jupyter": {
          "outputs_hidden": true
        },
        "colab": {
          "base_uri": "https://localhost:8080/"
        },
        "id": "XWUG6VZgpqPL",
        "outputId": "5e16d682-2735-4811-d5c6-8dcb671e08f6"
      },
      "outputs": [
        {
          "output_type": "execute_result",
          "data": {
            "text/plain": [
              "array([[[[[0.7245665 ],\n",
              "          [1.1821874 ],\n",
              "          [1.3728628 ],\n",
              "          ...,\n",
              "          [0.26694554],\n",
              "          [0.26694554],\n",
              "          [0.26694554]],\n",
              "\n",
              "         [[0.30508062],\n",
              "          [0.9152419 ],\n",
              "          [1.3347278 ],\n",
              "          ...,\n",
              "          [0.26694554],\n",
              "          [0.26694554],\n",
              "          [0.26694554]],\n",
              "\n",
              "         [[0.99151206],\n",
              "          [1.1440524 ],\n",
              "          [1.0296471 ],\n",
              "          ...,\n",
              "          [0.26694554],\n",
              "          [0.22881047],\n",
              "          [0.22881047]],\n",
              "\n",
              "         ...,\n",
              "\n",
              "         [[1.1440524 ],\n",
              "          [1.1440524 ],\n",
              "          [1.1440524 ],\n",
              "          ...,\n",
              "          [0.07627016],\n",
              "          [0.03813508],\n",
              "          [0.03813508]],\n",
              "\n",
              "         [[1.1059173 ],\n",
              "          [1.1059173 ],\n",
              "          [1.1059173 ],\n",
              "          ...,\n",
              "          [0.07627016],\n",
              "          [0.03813508],\n",
              "          [0.03813508]],\n",
              "\n",
              "         [[1.1059173 ],\n",
              "          [1.1059173 ],\n",
              "          [1.1059173 ],\n",
              "          ...,\n",
              "          [0.07627016],\n",
              "          [0.03813508],\n",
              "          [0.03813508]]],\n",
              "\n",
              "\n",
              "        [[[0.7627016 ],\n",
              "          [1.2965927 ],\n",
              "          [1.4109979 ],\n",
              "          ...,\n",
              "          [0.22881047],\n",
              "          [0.1906754 ],\n",
              "          [0.1906754 ]],\n",
              "\n",
              "         [[0.22881047],\n",
              "          [0.95337695],\n",
              "          [1.2965927 ],\n",
              "          ...,\n",
              "          [0.22881047],\n",
              "          [0.1906754 ],\n",
              "          [0.1906754 ]],\n",
              "\n",
              "         [[0.6864314 ],\n",
              "          [0.9152419 ],\n",
              "          [0.95337695],\n",
              "          ...,\n",
              "          [0.26694554],\n",
              "          [0.26694554],\n",
              "          [0.26694554]],\n",
              "\n",
              "         ...,\n",
              "\n",
              "         [[1.0677822 ],\n",
              "          [1.0677822 ],\n",
              "          [1.0677822 ],\n",
              "          ...,\n",
              "          [0.07627016],\n",
              "          [0.03813508],\n",
              "          [0.07627016]],\n",
              "\n",
              "         [[1.0296471 ],\n",
              "          [1.0296471 ],\n",
              "          [1.0296471 ],\n",
              "          ...,\n",
              "          [0.07627016],\n",
              "          [0.03813508],\n",
              "          [0.03813508]],\n",
              "\n",
              "         [[1.0677822 ],\n",
              "          [1.0677822 ],\n",
              "          [1.0677822 ],\n",
              "          ...,\n",
              "          [0.03813508],\n",
              "          [0.03813508],\n",
              "          [0.03813508]]],\n",
              "\n",
              "\n",
              "        [[[0.9152419 ],\n",
              "          [1.3728628 ],\n",
              "          [1.5254031 ],\n",
              "          ...,\n",
              "          [0.30508062],\n",
              "          [0.22881047],\n",
              "          [0.22881047]],\n",
              "\n",
              "         [[0.26694554],\n",
              "          [0.9152419 ],\n",
              "          [1.3347278 ],\n",
              "          ...,\n",
              "          [0.30508062],\n",
              "          [0.22881047],\n",
              "          [0.22881047]],\n",
              "\n",
              "         [[0.9152419 ],\n",
              "          [0.95337695],\n",
              "          [0.8771068 ],\n",
              "          ...,\n",
              "          [0.26694554],\n",
              "          [0.26694554],\n",
              "          [0.22881047]],\n",
              "\n",
              "         ...,\n",
              "\n",
              "         [[1.1059173 ],\n",
              "          [1.1059173 ],\n",
              "          [1.1059173 ],\n",
              "          ...,\n",
              "          [0.11440524],\n",
              "          [0.03813508],\n",
              "          [0.07627016]],\n",
              "\n",
              "         [[1.0677822 ],\n",
              "          [1.0677822 ],\n",
              "          [1.0296471 ],\n",
              "          ...,\n",
              "          [0.11440524],\n",
              "          [0.03813508],\n",
              "          [0.03813508]],\n",
              "\n",
              "         [[1.0677822 ],\n",
              "          [1.0677822 ],\n",
              "          [1.0677822 ],\n",
              "          ...,\n",
              "          [0.03813508],\n",
              "          [0.03813508],\n",
              "          [0.03813508]]],\n",
              "\n",
              "\n",
              "        ...,\n",
              "\n",
              "\n",
              "        [[[0.61016124],\n",
              "          [0.9152419 ],\n",
              "          [0.8771068 ],\n",
              "          ...,\n",
              "          [0.22881047],\n",
              "          [0.22881047],\n",
              "          [0.22881047]],\n",
              "\n",
              "         [[0.6864314 ],\n",
              "          [0.61016124],\n",
              "          [0.41948587],\n",
              "          ...,\n",
              "          [0.22881047],\n",
              "          [0.22881047],\n",
              "          [0.22881047]],\n",
              "\n",
              "         [[1.1821874 ],\n",
              "          [1.1821874 ],\n",
              "          [0.95337695],\n",
              "          ...,\n",
              "          [0.26694554],\n",
              "          [0.26694554],\n",
              "          [0.22881047]],\n",
              "\n",
              "         ...,\n",
              "\n",
              "         [[1.0296471 ],\n",
              "          [1.0296471 ],\n",
              "          [1.0296471 ],\n",
              "          ...,\n",
              "          [0.03813508],\n",
              "          [0.03813508],\n",
              "          [0.03813508]],\n",
              "\n",
              "         [[1.0677822 ],\n",
              "          [1.0677822 ],\n",
              "          [1.0677822 ],\n",
              "          ...,\n",
              "          [0.03813508],\n",
              "          [0.03813508],\n",
              "          [9.724445  ]],\n",
              "\n",
              "         [[1.0677822 ],\n",
              "          [1.0677822 ],\n",
              "          [1.0677822 ],\n",
              "          ...,\n",
              "          [0.03813508],\n",
              "          [9.724445  ],\n",
              "          [9.724445  ]]],\n",
              "\n",
              "\n",
              "        [[[0.6864314 ],\n",
              "          [0.95337695],\n",
              "          [1.0296471 ],\n",
              "          ...,\n",
              "          [0.22881047],\n",
              "          [0.22881047],\n",
              "          [0.22881047]],\n",
              "\n",
              "         [[0.8008366 ],\n",
              "          [0.61016124],\n",
              "          [0.45762095],\n",
              "          ...,\n",
              "          [0.22881047],\n",
              "          [0.22881047],\n",
              "          [0.22881047]],\n",
              "\n",
              "         [[1.1059173 ],\n",
              "          [1.0677822 ],\n",
              "          [0.7627016 ],\n",
              "          ...,\n",
              "          [0.26694554],\n",
              "          [0.26694554],\n",
              "          [0.22881047]],\n",
              "\n",
              "         ...,\n",
              "\n",
              "         [[1.0296471 ],\n",
              "          [1.0296471 ],\n",
              "          [1.0296471 ],\n",
              "          ...,\n",
              "          [0.03813508],\n",
              "          [0.03813508],\n",
              "          [9.724445  ]],\n",
              "\n",
              "         [[1.0677822 ],\n",
              "          [1.0677822 ],\n",
              "          [1.0677822 ],\n",
              "          ...,\n",
              "          [0.03813508],\n",
              "          [9.724445  ],\n",
              "          [9.724445  ]],\n",
              "\n",
              "         [[1.0677822 ],\n",
              "          [1.0677822 ],\n",
              "          [1.0677822 ],\n",
              "          ...,\n",
              "          [9.724445  ],\n",
              "          [9.724445  ],\n",
              "          [9.724445  ]]],\n",
              "\n",
              "\n",
              "        [[[0.7627016 ],\n",
              "          [0.99151206],\n",
              "          [1.1059173 ],\n",
              "          ...,\n",
              "          [0.26694554],\n",
              "          [0.22881047],\n",
              "          [0.22881047]],\n",
              "\n",
              "         [[0.7627016 ],\n",
              "          [0.5720262 ],\n",
              "          [0.49575603],\n",
              "          ...,\n",
              "          [0.26694554],\n",
              "          [0.22881047],\n",
              "          [0.22881047]],\n",
              "\n",
              "         [[1.1821874 ],\n",
              "          [1.0296471 ],\n",
              "          [0.7245665 ],\n",
              "          ...,\n",
              "          [0.26694554],\n",
              "          [0.22881047],\n",
              "          [0.22881047]],\n",
              "\n",
              "         ...,\n",
              "\n",
              "         [[1.0677822 ],\n",
              "          [1.0677822 ],\n",
              "          [1.0677822 ],\n",
              "          ...,\n",
              "          [0.07627016],\n",
              "          [0.03813508],\n",
              "          [0.03813508]],\n",
              "\n",
              "         [[1.0677822 ],\n",
              "          [1.0677822 ],\n",
              "          [1.0677822 ],\n",
              "          ...,\n",
              "          [0.07627016],\n",
              "          [0.03813508],\n",
              "          [0.03813508]],\n",
              "\n",
              "         [[1.0677822 ],\n",
              "          [1.0677822 ],\n",
              "          [1.0677822 ],\n",
              "          ...,\n",
              "          [0.03813508],\n",
              "          [0.03813508],\n",
              "          [9.724445  ]]]],\n",
              "\n",
              "\n",
              "\n",
              "       [[[[1.4914514 ],\n",
              "          [1.5278282 ],\n",
              "          [1.4550744 ],\n",
              "          ...,\n",
              "          [0.3637686 ],\n",
              "          [0.3637686 ],\n",
              "          [0.3637686 ]],\n",
              "\n",
              "         [[1.4914514 ],\n",
              "          [1.564205  ],\n",
              "          [1.564205  ],\n",
              "          ...,\n",
              "          [0.3637686 ],\n",
              "          [0.3637686 ],\n",
              "          [0.3637686 ]],\n",
              "\n",
              "         [[1.4186976 ],\n",
              "          [1.4186976 ],\n",
              "          [1.3459439 ],\n",
              "          ...,\n",
              "          [0.3637686 ],\n",
              "          [0.32739177],\n",
              "          [0.32739177]],\n",
              "\n",
              "         ...,\n",
              "\n",
              "         [[1.0185522 ],\n",
              "          [1.0185522 ],\n",
              "          [1.0185522 ],\n",
              "          ...,\n",
              "          [0.14550745],\n",
              "          [0.14550745],\n",
              "          [0.14550745]],\n",
              "\n",
              "         [[0.9821753 ],\n",
              "          [0.9821753 ],\n",
              "          [0.9821753 ],\n",
              "          ...,\n",
              "          [0.10913058],\n",
              "          [0.10913058],\n",
              "          [0.10913058]],\n",
              "\n",
              "         [[0.9821753 ],\n",
              "          [0.9821753 ],\n",
              "          [0.9821753 ],\n",
              "          ...,\n",
              "          [0.07275373],\n",
              "          [0.07275373],\n",
              "          [0.07275373]]],\n",
              "\n",
              "\n",
              "        [[[1.5278282 ],\n",
              "          [1.4550744 ],\n",
              "          [1.4186976 ],\n",
              "          ...,\n",
              "          [0.32739177],\n",
              "          [0.32739177],\n",
              "          [0.32739177]],\n",
              "\n",
              "         [[1.5278282 ],\n",
              "          [1.4550744 ],\n",
              "          [1.5278282 ],\n",
              "          ...,\n",
              "          [0.32739177],\n",
              "          [0.32739177],\n",
              "          [0.32739177]],\n",
              "\n",
              "         [[1.5278282 ],\n",
              "          [1.5278282 ],\n",
              "          [1.4186976 ],\n",
              "          ...,\n",
              "          [0.40014547],\n",
              "          [0.25463805],\n",
              "          [0.25463805]],\n",
              "\n",
              "         ...,\n",
              "\n",
              "         [[1.0185522 ],\n",
              "          [1.0185522 ],\n",
              "          [1.0185522 ],\n",
              "          ...,\n",
              "          [0.1818843 ],\n",
              "          [0.10913058],\n",
              "          [0.07275373]],\n",
              "\n",
              "         [[0.9821753 ],\n",
              "          [0.9821753 ],\n",
              "          [0.9821753 ],\n",
              "          ...,\n",
              "          [0.10913058],\n",
              "          [0.07275373],\n",
              "          [0.03637686]],\n",
              "\n",
              "         [[0.9821753 ],\n",
              "          [0.9821753 ],\n",
              "          [0.9821753 ],\n",
              "          ...,\n",
              "          [0.07275373],\n",
              "          [0.03637686],\n",
              "          [0.03637686]]],\n",
              "\n",
              "\n",
              "        [[[1.4186976 ],\n",
              "          [1.4186976 ],\n",
              "          [1.3823208 ],\n",
              "          ...,\n",
              "          [0.32739177],\n",
              "          [0.32739177],\n",
              "          [0.32739177]],\n",
              "\n",
              "         [[1.4186976 ],\n",
              "          [1.3459439 ],\n",
              "          [1.3823208 ],\n",
              "          ...,\n",
              "          [0.32739177],\n",
              "          [0.32739177],\n",
              "          [0.32739177]],\n",
              "\n",
              "         [[1.4550744 ],\n",
              "          [1.4550744 ],\n",
              "          [1.4186976 ],\n",
              "          ...,\n",
              "          [0.3637686 ],\n",
              "          [0.2910149 ],\n",
              "          [0.2910149 ]],\n",
              "\n",
              "         ...,\n",
              "\n",
              "         [[1.0185522 ],\n",
              "          [1.0185522 ],\n",
              "          [1.0185522 ],\n",
              "          ...,\n",
              "          [0.1818843 ],\n",
              "          [0.10913058],\n",
              "          [0.07275373]],\n",
              "\n",
              "         [[0.9821753 ],\n",
              "          [0.9821753 ],\n",
              "          [0.9821753 ],\n",
              "          ...,\n",
              "          [0.10913058],\n",
              "          [0.07275373],\n",
              "          [0.03637686]],\n",
              "\n",
              "         [[0.9821753 ],\n",
              "          [0.9821753 ],\n",
              "          [0.9821753 ],\n",
              "          ...,\n",
              "          [0.07275373],\n",
              "          [0.03637686],\n",
              "          [0.03637686]]],\n",
              "\n",
              "\n",
              "        ...,\n",
              "\n",
              "\n",
              "        [[[1.4550744 ],\n",
              "          [1.4550744 ],\n",
              "          [1.3823208 ],\n",
              "          ...,\n",
              "          [0.2910149 ],\n",
              "          [0.2910149 ],\n",
              "          [0.2910149 ]],\n",
              "\n",
              "         [[1.5278282 ],\n",
              "          [1.4186976 ],\n",
              "          [1.3459439 ],\n",
              "          ...,\n",
              "          [0.2910149 ],\n",
              "          [0.2910149 ],\n",
              "          [0.2910149 ]],\n",
              "\n",
              "         [[1.3823208 ],\n",
              "          [1.3823208 ],\n",
              "          [1.3823208 ],\n",
              "          ...,\n",
              "          [0.2910149 ],\n",
              "          [0.32739177],\n",
              "          [0.32739177]],\n",
              "\n",
              "         ...,\n",
              "\n",
              "         [[0.9821753 ],\n",
              "          [0.9821753 ],\n",
              "          [0.9821753 ],\n",
              "          ...,\n",
              "          [0.14550745],\n",
              "          [0.10913058],\n",
              "          [0.07275373]],\n",
              "\n",
              "         [[0.9821753 ],\n",
              "          [0.9821753 ],\n",
              "          [0.9821753 ],\n",
              "          ...,\n",
              "          [0.10913058],\n",
              "          [0.10913058],\n",
              "          [0.07275373]],\n",
              "\n",
              "         [[0.9821753 ],\n",
              "          [0.9821753 ],\n",
              "          [0.9457984 ],\n",
              "          ...,\n",
              "          [0.07275373],\n",
              "          [0.07275373],\n",
              "          [0.03637686]]],\n",
              "\n",
              "\n",
              "        [[[1.5278282 ],\n",
              "          [1.4186976 ],\n",
              "          [1.4186976 ],\n",
              "          ...,\n",
              "          [0.25463805],\n",
              "          [0.2910149 ],\n",
              "          [0.2910149 ]],\n",
              "\n",
              "         [[1.564205  ],\n",
              "          [1.3823208 ],\n",
              "          [1.3823208 ],\n",
              "          ...,\n",
              "          [0.25463805],\n",
              "          [0.2910149 ],\n",
              "          [0.2910149 ]],\n",
              "\n",
              "         [[1.3823208 ],\n",
              "          [1.3823208 ],\n",
              "          [1.4186976 ],\n",
              "          ...,\n",
              "          [0.32739177],\n",
              "          [0.32739177],\n",
              "          [0.32739177]],\n",
              "\n",
              "         ...,\n",
              "\n",
              "         [[0.9821753 ],\n",
              "          [0.9821753 ],\n",
              "          [0.9821753 ],\n",
              "          ...,\n",
              "          [0.14550745],\n",
              "          [0.10913058],\n",
              "          [0.07275373]],\n",
              "\n",
              "         [[0.9821753 ],\n",
              "          [0.9821753 ],\n",
              "          [0.9821753 ],\n",
              "          ...,\n",
              "          [0.10913058],\n",
              "          [0.10913058],\n",
              "          [0.07275373]],\n",
              "\n",
              "         [[0.9821753 ],\n",
              "          [0.9821753 ],\n",
              "          [0.9457984 ],\n",
              "          ...,\n",
              "          [0.10913058],\n",
              "          [0.07275373],\n",
              "          [0.03637686]]],\n",
              "\n",
              "\n",
              "        [[[1.4186976 ],\n",
              "          [1.3823208 ],\n",
              "          [1.4186976 ],\n",
              "          ...,\n",
              "          [0.2910149 ],\n",
              "          [0.2910149 ],\n",
              "          [0.2910149 ]],\n",
              "\n",
              "         [[1.4914514 ],\n",
              "          [1.3459439 ],\n",
              "          [1.3823208 ],\n",
              "          ...,\n",
              "          [0.2910149 ],\n",
              "          [0.2910149 ],\n",
              "          [0.2910149 ]],\n",
              "\n",
              "         [[1.4186976 ],\n",
              "          [1.4186976 ],\n",
              "          [1.4186976 ],\n",
              "          ...,\n",
              "          [0.32739177],\n",
              "          [0.32739177],\n",
              "          [0.32739177]],\n",
              "\n",
              "         ...,\n",
              "\n",
              "         [[0.9821753 ],\n",
              "          [0.9821753 ],\n",
              "          [0.9821753 ],\n",
              "          ...,\n",
              "          [0.14550745],\n",
              "          [0.10913058],\n",
              "          [0.07275373]],\n",
              "\n",
              "         [[0.9821753 ],\n",
              "          [0.9821753 ],\n",
              "          [0.9821753 ],\n",
              "          ...,\n",
              "          [0.10913058],\n",
              "          [0.10913058],\n",
              "          [0.07275373]],\n",
              "\n",
              "         [[0.9821753 ],\n",
              "          [0.9821753 ],\n",
              "          [0.9457984 ],\n",
              "          ...,\n",
              "          [0.10913058],\n",
              "          [0.07275373],\n",
              "          [0.03637686]]]]], dtype=float32)"
            ]
          },
          "metadata": {},
          "execution_count": 30
        }
      ],
      "execution_count": 30
    },
    {
      "cell_type": "code",
      "source": [
        "len(frames)"
      ],
      "metadata": {
        "trusted": true,
        "execution": {
          "iopub.status.busy": "2025-01-03T19:20:18.975004Z",
          "iopub.execute_input": "2025-01-03T19:20:18.975508Z",
          "iopub.status.idle": "2025-01-03T19:20:18.984225Z",
          "shell.execute_reply.started": "2025-01-03T19:20:18.975464Z",
          "shell.execute_reply": "2025-01-03T19:20:18.982597Z"
        },
        "colab": {
          "base_uri": "https://localhost:8080/"
        },
        "id": "OmQrq49xpqPL",
        "outputId": "c5afda37-82f4-4f80-9191-f7c742844721"
      },
      "outputs": [
        {
          "output_type": "execute_result",
          "data": {
            "text/plain": [
              "2"
            ]
          },
          "metadata": {},
          "execution_count": 31
        }
      ],
      "execution_count": 31
    },
    {
      "cell_type": "code",
      "source": [
        "sample = data.as_numpy_iterator()"
      ],
      "metadata": {
        "trusted": true,
        "execution": {
          "iopub.status.busy": "2025-01-03T19:28:18.950208Z",
          "iopub.execute_input": "2025-01-03T19:28:18.950688Z",
          "iopub.status.idle": "2025-01-03T19:28:18.962533Z",
          "shell.execute_reply.started": "2025-01-03T19:28:18.950655Z",
          "shell.execute_reply": "2025-01-03T19:28:18.961311Z"
        },
        "id": "XyueJwy0pqPL"
      },
      "outputs": [],
      "execution_count": 33
    },
    {
      "cell_type": "code",
      "source": [
        "val = sample.next(); val[0]"
      ],
      "metadata": {
        "trusted": true,
        "execution": {
          "iopub.status.busy": "2025-01-03T19:28:21.121218Z",
          "iopub.execute_input": "2025-01-03T19:28:21.121662Z",
          "iopub.status.idle": "2025-01-03T19:28:21.827019Z",
          "shell.execute_reply.started": "2025-01-03T19:28:21.121629Z",
          "shell.execute_reply": "2025-01-03T19:28:21.825746Z"
        },
        "collapsed": true,
        "jupyter": {
          "outputs_hidden": true
        },
        "colab": {
          "base_uri": "https://localhost:8080/"
        },
        "id": "YxDI-wOGpqPL",
        "outputId": "a07cf5d0-5bea-4c3c-8d43-974538722404"
      },
      "outputs": [
        {
          "output_type": "execute_result",
          "data": {
            "text/plain": [
              "array([[[[[1.46119   ],\n",
              "          [1.46119   ],\n",
              "          [1.4237236 ],\n",
              "          ...,\n",
              "          [0.636929  ],\n",
              "          [0.8617274 ],\n",
              "          [0.7493282 ]],\n",
              "\n",
              "         [[1.46119   ],\n",
              "          [1.46119   ],\n",
              "          [1.4237236 ],\n",
              "          ...,\n",
              "          [0.7493282 ],\n",
              "          [0.7867946 ],\n",
              "          [0.56199616]],\n",
              "\n",
              "         [[1.3113244 ],\n",
              "          [1.3113244 ],\n",
              "          [1.3113244 ],\n",
              "          ...,\n",
              "          [0.52452976],\n",
              "          [0.7118618 ],\n",
              "          [0.        ]],\n",
              "\n",
              "         ...,\n",
              "\n",
              "         [[0.8991938 ],\n",
              "          [0.8991938 ],\n",
              "          [0.8991938 ],\n",
              "          ...,\n",
              "          [0.07493282],\n",
              "          [0.03746641],\n",
              "          [0.03746641]],\n",
              "\n",
              "         [[0.8991938 ],\n",
              "          [0.8991938 ],\n",
              "          [0.8991938 ],\n",
              "          ...,\n",
              "          [0.03746641],\n",
              "          [0.03746641],\n",
              "          [0.03746641]],\n",
              "\n",
              "         [[0.8991938 ],\n",
              "          [0.8991938 ],\n",
              "          [0.8991938 ],\n",
              "          ...,\n",
              "          [0.03746641],\n",
              "          [0.03746641],\n",
              "          [0.        ]]],\n",
              "\n",
              "\n",
              "        [[[1.46119   ],\n",
              "          [1.46119   ],\n",
              "          [1.4237236 ],\n",
              "          ...,\n",
              "          [0.7118618 ],\n",
              "          [0.7867946 ],\n",
              "          [0.59946257]],\n",
              "\n",
              "         [[1.3113244 ],\n",
              "          [1.3113244 ],\n",
              "          [1.3113244 ],\n",
              "          ...,\n",
              "          [0.7493282 ],\n",
              "          [0.8991938 ],\n",
              "          [0.636929  ]],\n",
              "\n",
              "         [[1.3113244 ],\n",
              "          [1.3113244 ],\n",
              "          [1.3113244 ],\n",
              "          ...,\n",
              "          [0.48706332],\n",
              "          [0.7867946 ],\n",
              "          [0.        ]],\n",
              "\n",
              "         ...,\n",
              "\n",
              "         [[1.0115931 ],\n",
              "          [1.0115931 ],\n",
              "          [0.8617274 ],\n",
              "          ...,\n",
              "          [0.07493282],\n",
              "          [0.03746641],\n",
              "          [0.03746641]],\n",
              "\n",
              "         [[1.0115931 ],\n",
              "          [1.0115931 ],\n",
              "          [0.8991938 ],\n",
              "          ...,\n",
              "          [0.07493282],\n",
              "          [0.03746641],\n",
              "          [0.03746641]],\n",
              "\n",
              "         [[1.0865259 ],\n",
              "          [1.0865259 ],\n",
              "          [0.8991938 ],\n",
              "          ...,\n",
              "          [0.07493282],\n",
              "          [0.03746641],\n",
              "          [0.        ]]],\n",
              "\n",
              "\n",
              "        [[[1.3487908 ],\n",
              "          [1.3487908 ],\n",
              "          [1.3113244 ],\n",
              "          ...,\n",
              "          [0.6743954 ],\n",
              "          [0.7118618 ],\n",
              "          [0.636929  ]],\n",
              "\n",
              "         [[1.3487908 ],\n",
              "          [1.3487908 ],\n",
              "          [1.3113244 ],\n",
              "          ...,\n",
              "          [0.52452976],\n",
              "          [0.7118618 ],\n",
              "          [0.59946257]],\n",
              "\n",
              "         [[1.3487908 ],\n",
              "          [1.3487908 ],\n",
              "          [1.3487908 ],\n",
              "          ...,\n",
              "          [0.48706332],\n",
              "          [0.636929  ],\n",
              "          [0.07493282]],\n",
              "\n",
              "         ...,\n",
              "\n",
              "         [[1.0115931 ],\n",
              "          [1.0115931 ],\n",
              "          [0.93666023],\n",
              "          ...,\n",
              "          [0.07493282],\n",
              "          [0.03746641],\n",
              "          [0.03746641]],\n",
              "\n",
              "         [[0.97412664],\n",
              "          [0.97412664],\n",
              "          [0.8991938 ],\n",
              "          ...,\n",
              "          [0.03746641],\n",
              "          [0.03746641],\n",
              "          [0.03746641]],\n",
              "\n",
              "         [[1.0115931 ],\n",
              "          [1.0115931 ],\n",
              "          [0.8991938 ],\n",
              "          ...,\n",
              "          [0.03746641],\n",
              "          [0.03746641],\n",
              "          [0.        ]]],\n",
              "\n",
              "\n",
              "        ...,\n",
              "\n",
              "\n",
              "        [[[1.46119   ],\n",
              "          [1.46119   ],\n",
              "          [1.3862572 ],\n",
              "          ...,\n",
              "          [0.636929  ],\n",
              "          [0.7118618 ],\n",
              "          [9.29167   ]],\n",
              "\n",
              "         [[1.46119   ],\n",
              "          [1.46119   ],\n",
              "          [1.3862572 ],\n",
              "          ...,\n",
              "          [0.52452976],\n",
              "          [0.29973128],\n",
              "          [8.767139  ]],\n",
              "\n",
              "         [[1.3113244 ],\n",
              "          [1.3113244 ],\n",
              "          [1.273858  ],\n",
              "          ...,\n",
              "          [9.441535  ],\n",
              "          [9.441535  ],\n",
              "          [9.141804  ]],\n",
              "\n",
              "         ...,\n",
              "\n",
              "         [[0.8991938 ],\n",
              "          [0.8991938 ],\n",
              "          [0.8991938 ],\n",
              "          ...,\n",
              "          [0.11239923],\n",
              "          [0.03746641],\n",
              "          [0.        ]],\n",
              "\n",
              "         [[0.8991938 ],\n",
              "          [0.8991938 ],\n",
              "          [0.8991938 ],\n",
              "          ...,\n",
              "          [0.07493282],\n",
              "          [0.        ],\n",
              "          [9.553934  ]],\n",
              "\n",
              "         [[0.8991938 ],\n",
              "          [0.8991938 ],\n",
              "          [0.8991938 ],\n",
              "          ...,\n",
              "          [0.03746641],\n",
              "          [9.553934  ],\n",
              "          [9.516468  ]]],\n",
              "\n",
              "\n",
              "        [[[1.46119   ],\n",
              "          [1.46119   ],\n",
              "          [1.3862572 ],\n",
              "          ...,\n",
              "          [0.59946257],\n",
              "          [0.8991938 ],\n",
              "          [9.329136  ]],\n",
              "\n",
              "         [[1.46119   ],\n",
              "          [1.46119   ],\n",
              "          [1.3113244 ],\n",
              "          ...,\n",
              "          [0.52452976],\n",
              "          [0.4495969 ],\n",
              "          [8.579808  ]],\n",
              "\n",
              "         [[1.3487908 ],\n",
              "          [1.3487908 ],\n",
              "          [1.273858  ],\n",
              "          ...,\n",
              "          [0.        ],\n",
              "          [9.441535  ],\n",
              "          [9.029405  ]],\n",
              "\n",
              "         ...,\n",
              "\n",
              "         [[0.93666023],\n",
              "          [0.8991938 ],\n",
              "          [0.8991938 ],\n",
              "          ...,\n",
              "          [0.11239923],\n",
              "          [0.07493282],\n",
              "          [0.03746641]],\n",
              "\n",
              "         [[0.93666023],\n",
              "          [0.8991938 ],\n",
              "          [0.8991938 ],\n",
              "          ...,\n",
              "          [0.11239923],\n",
              "          [0.03746641],\n",
              "          [0.        ]],\n",
              "\n",
              "         [[0.93666023],\n",
              "          [0.8991938 ],\n",
              "          [0.8991938 ],\n",
              "          ...,\n",
              "          [0.07493282],\n",
              "          [0.        ],\n",
              "          [9.553934  ]]],\n",
              "\n",
              "\n",
              "        [[[0.        ],\n",
              "          [0.        ],\n",
              "          [0.        ],\n",
              "          ...,\n",
              "          [0.        ],\n",
              "          [0.        ],\n",
              "          [0.        ]],\n",
              "\n",
              "         [[0.        ],\n",
              "          [0.        ],\n",
              "          [0.        ],\n",
              "          ...,\n",
              "          [0.        ],\n",
              "          [0.        ],\n",
              "          [0.        ]],\n",
              "\n",
              "         [[0.        ],\n",
              "          [0.        ],\n",
              "          [0.        ],\n",
              "          ...,\n",
              "          [0.        ],\n",
              "          [0.        ],\n",
              "          [0.        ]],\n",
              "\n",
              "         ...,\n",
              "\n",
              "         [[0.        ],\n",
              "          [0.        ],\n",
              "          [0.        ],\n",
              "          ...,\n",
              "          [0.        ],\n",
              "          [0.        ],\n",
              "          [0.        ]],\n",
              "\n",
              "         [[0.        ],\n",
              "          [0.        ],\n",
              "          [0.        ],\n",
              "          ...,\n",
              "          [0.        ],\n",
              "          [0.        ],\n",
              "          [0.        ]],\n",
              "\n",
              "         [[0.        ],\n",
              "          [0.        ],\n",
              "          [0.        ],\n",
              "          ...,\n",
              "          [0.        ],\n",
              "          [0.        ],\n",
              "          [0.        ]]]],\n",
              "\n",
              "\n",
              "\n",
              "       [[[[1.3688829 ],\n",
              "          [1.3688829 ],\n",
              "          [1.3688829 ],\n",
              "          ...,\n",
              "          [8.805246  ],\n",
              "          [9.286205  ],\n",
              "          [9.434193  ]],\n",
              "\n",
              "         [[1.3688829 ],\n",
              "          [1.3688829 ],\n",
              "          [1.3688829 ],\n",
              "          ...,\n",
              "          [8.620263  ],\n",
              "          [9.397196  ],\n",
              "          [9.434193  ]],\n",
              "\n",
              "         [[1.2948892 ],\n",
              "          [1.2948892 ],\n",
              "          [1.2948892 ],\n",
              "          ...,\n",
              "          [9.397196  ],\n",
              "          [0.14798734],\n",
              "          [0.14798734]],\n",
              "\n",
              "         ...,\n",
              "\n",
              "         [[0.9619177 ],\n",
              "          [0.9619177 ],\n",
              "          [0.9619177 ],\n",
              "          ...,\n",
              "          [0.11099051],\n",
              "          [0.03699683],\n",
              "          [0.        ]],\n",
              "\n",
              "         [[0.92492086],\n",
              "          [0.92492086],\n",
              "          [0.92492086],\n",
              "          ...,\n",
              "          [0.03699683],\n",
              "          [0.        ],\n",
              "          [9.434193  ]],\n",
              "\n",
              "         [[0.92492086],\n",
              "          [0.92492086],\n",
              "          [0.92492086],\n",
              "          ...,\n",
              "          [0.        ],\n",
              "          [0.        ],\n",
              "          [9.434193  ]]],\n",
              "\n",
              "\n",
              "        [[[1.3688829 ],\n",
              "          [1.3688829 ],\n",
              "          [1.4058797 ],\n",
              "          ...,\n",
              "          [8.694257  ],\n",
              "          [0.        ],\n",
              "          [9.360199  ]],\n",
              "\n",
              "         [[1.3688829 ],\n",
              "          [1.3688829 ],\n",
              "          [1.4058797 ],\n",
              "          ...,\n",
              "          [8.65726   ],\n",
              "          [0.        ],\n",
              "          [9.434193  ]],\n",
              "\n",
              "         [[1.3688829 ],\n",
              "          [1.3688829 ],\n",
              "          [1.3688829 ],\n",
              "          ...,\n",
              "          [9.434193  ],\n",
              "          [0.14798734],\n",
              "          [0.14798734]],\n",
              "\n",
              "         ...,\n",
              "\n",
              "         [[0.9619177 ],\n",
              "          [0.9619177 ],\n",
              "          [0.9619177 ],\n",
              "          ...,\n",
              "          [0.03699683],\n",
              "          [0.        ],\n",
              "          [9.434193  ]],\n",
              "\n",
              "         [[0.92492086],\n",
              "          [0.92492086],\n",
              "          [0.92492086],\n",
              "          ...,\n",
              "          [9.397196  ],\n",
              "          [9.434193  ],\n",
              "          [9.434193  ]],\n",
              "\n",
              "         [[0.92492086],\n",
              "          [0.92492086],\n",
              "          [0.92492086],\n",
              "          ...,\n",
              "          [9.360199  ],\n",
              "          [9.434193  ],\n",
              "          [9.434193  ]]],\n",
              "\n",
              "\n",
              "        [[[1.4058797 ],\n",
              "          [1.4058797 ],\n",
              "          [1.331886  ],\n",
              "          ...,\n",
              "          [8.620263  ],\n",
              "          [0.03699683],\n",
              "          [0.03699683]],\n",
              "\n",
              "         [[1.3688829 ],\n",
              "          [1.3688829 ],\n",
              "          [1.2948892 ],\n",
              "          ...,\n",
              "          [8.65726   ],\n",
              "          [0.        ],\n",
              "          [0.03699683]],\n",
              "\n",
              "         [[1.3688829 ],\n",
              "          [1.3688829 ],\n",
              "          [1.3688829 ],\n",
              "          ...,\n",
              "          [0.        ],\n",
              "          [0.18498418],\n",
              "          [0.18498418]],\n",
              "\n",
              "         ...,\n",
              "\n",
              "         [[0.92492086],\n",
              "          [0.92492086],\n",
              "          [0.92492086],\n",
              "          ...,\n",
              "          [0.03699683],\n",
              "          [9.434193  ],\n",
              "          [9.434193  ]],\n",
              "\n",
              "         [[0.92492086],\n",
              "          [0.92492086],\n",
              "          [0.92492086],\n",
              "          ...,\n",
              "          [9.397196  ],\n",
              "          [9.397196  ],\n",
              "          [9.434193  ]],\n",
              "\n",
              "         [[0.92492086],\n",
              "          [0.92492086],\n",
              "          [0.92492086],\n",
              "          ...,\n",
              "          [9.360199  ],\n",
              "          [9.397196  ],\n",
              "          [9.434193  ]]],\n",
              "\n",
              "\n",
              "        ...,\n",
              "\n",
              "\n",
              "        [[[1.5538671 ],\n",
              "          [1.5538671 ],\n",
              "          [1.4798734 ],\n",
              "          ...,\n",
              "          [9.360199  ],\n",
              "          [9.397196  ],\n",
              "          [9.138218  ]],\n",
              "\n",
              "         [[1.5538671 ],\n",
              "          [1.5538671 ],\n",
              "          [1.4798734 ],\n",
              "          ...,\n",
              "          [8.583266  ],\n",
              "          [9.212212  ],\n",
              "          [9.323202  ]],\n",
              "\n",
              "         [[1.4428766 ],\n",
              "          [1.4428766 ],\n",
              "          [1.4428766 ],\n",
              "          ...,\n",
              "          [9.212212  ],\n",
              "          [0.07399367],\n",
              "          [0.07399367]],\n",
              "\n",
              "         ...,\n",
              "\n",
              "         [[0.9619177 ],\n",
              "          [0.9619177 ],\n",
              "          [0.9619177 ],\n",
              "          ...,\n",
              "          [0.14798734],\n",
              "          [0.22198102],\n",
              "          [0.18498418]],\n",
              "\n",
              "         [[0.9619177 ],\n",
              "          [0.9619177 ],\n",
              "          [0.9619177 ],\n",
              "          ...,\n",
              "          [9.434193  ],\n",
              "          [0.18498418],\n",
              "          [0.14798734]],\n",
              "\n",
              "         [[0.9619177 ],\n",
              "          [0.9619177 ],\n",
              "          [0.9619177 ],\n",
              "          ...,\n",
              "          [9.397196  ],\n",
              "          [0.14798734],\n",
              "          [0.14798734]]],\n",
              "\n",
              "\n",
              "        [[[1.5168703 ],\n",
              "          [1.5168703 ],\n",
              "          [1.4798734 ],\n",
              "          ...,\n",
              "          [9.323202  ],\n",
              "          [9.212212  ],\n",
              "          [9.138218  ]],\n",
              "\n",
              "         [[1.5168703 ],\n",
              "          [1.5168703 ],\n",
              "          [1.4798734 ],\n",
              "          ...,\n",
              "          [8.546269  ],\n",
              "          [9.175215  ],\n",
              "          [9.212212  ]],\n",
              "\n",
              "         [[1.331886  ],\n",
              "          [1.331886  ],\n",
              "          [1.3688829 ],\n",
              "          ...,\n",
              "          [9.101221  ],\n",
              "          [0.03699683],\n",
              "          [0.03699683]],\n",
              "\n",
              "         ...,\n",
              "\n",
              "         [[0.92492086],\n",
              "          [0.92492086],\n",
              "          [0.92492086],\n",
              "          ...,\n",
              "          [0.18498418],\n",
              "          [0.11099051],\n",
              "          [0.11099051]],\n",
              "\n",
              "         [[0.92492086],\n",
              "          [0.92492086],\n",
              "          [0.92492086],\n",
              "          ...,\n",
              "          [9.397196  ],\n",
              "          [0.14798734],\n",
              "          [0.14798734]],\n",
              "\n",
              "         [[0.92492086],\n",
              "          [0.92492086],\n",
              "          [0.92492086],\n",
              "          ...,\n",
              "          [9.360199  ],\n",
              "          [0.07399367],\n",
              "          [0.07399367]]],\n",
              "\n",
              "\n",
              "        [[[1.4798734 ],\n",
              "          [1.4798734 ],\n",
              "          [1.4058797 ],\n",
              "          ...,\n",
              "          [9.397196  ],\n",
              "          [9.175215  ],\n",
              "          [9.175215  ]],\n",
              "\n",
              "         [[1.4798734 ],\n",
              "          [1.4798734 ],\n",
              "          [1.4058797 ],\n",
              "          ...,\n",
              "          [8.583266  ],\n",
              "          [9.101221  ],\n",
              "          [9.286205  ]],\n",
              "\n",
              "         [[1.3688829 ],\n",
              "          [1.3688829 ],\n",
              "          [1.3688829 ],\n",
              "          ...,\n",
              "          [9.175215  ],\n",
              "          [0.07399367],\n",
              "          [0.07399367]],\n",
              "\n",
              "         ...,\n",
              "\n",
              "         [[1.0359114 ],\n",
              "          [1.0359114 ],\n",
              "          [0.99891454],\n",
              "          ...,\n",
              "          [0.18498418],\n",
              "          [0.11099051],\n",
              "          [0.11099051]],\n",
              "\n",
              "         [[1.0359114 ],\n",
              "          [0.99891454],\n",
              "          [0.9619177 ],\n",
              "          ...,\n",
              "          [9.434193  ],\n",
              "          [0.14798734],\n",
              "          [0.14798734]],\n",
              "\n",
              "         [[1.0359114 ],\n",
              "          [0.99891454],\n",
              "          [0.9619177 ],\n",
              "          ...,\n",
              "          [9.360199  ],\n",
              "          [0.03699683],\n",
              "          [0.07399367]]]]], dtype=float32)"
            ]
          },
          "metadata": {},
          "execution_count": 34
        }
      ],
      "execution_count": 34
    },
    {
      "cell_type": "code",
      "source": [
        "tf.strings.reduce_join([num_to_char(word) for word in val[1][0]])"
      ],
      "metadata": {
        "trusted": true,
        "execution": {
          "iopub.status.busy": "2025-01-03T19:28:25.045941Z",
          "iopub.execute_input": "2025-01-03T19:28:25.046305Z",
          "iopub.status.idle": "2025-01-03T19:28:25.081556Z",
          "shell.execute_reply.started": "2025-01-03T19:28:25.046264Z",
          "shell.execute_reply": "2025-01-03T19:28:25.080424Z"
        },
        "colab": {
          "base_uri": "https://localhost:8080/"
        },
        "id": "4tNC7aZBpqPL",
        "outputId": "2cbf1d57-accf-41a2-8c4e-776f9eb1dbcf"
      },
      "outputs": [
        {
          "output_type": "execute_result",
          "data": {
            "text/plain": [
              "<tf.Tensor: shape=(), dtype=string, numpy=b'set blue by b zero please'>"
            ]
          },
          "metadata": {},
          "execution_count": 35
        }
      ],
      "execution_count": 35
    },
    {
      "cell_type": "markdown",
      "source": [
        "design the deep neural network"
      ],
      "metadata": {
        "id": "ufLlglydpqPL"
      }
    },
    {
      "cell_type": "code",
      "source": [
        "from tensorflow.keras.models import Sequential\n",
        "from tensorflow.keras.layers import Conv3D, LSTM, Dense, Dropout, Bidirectional, MaxPool3D, Activation, Reshape, SpatialDropout3D, BatchNormalization, TimeDistributed, Flatten\n",
        "from tensorflow.keras.optimizers import Adam\n",
        "from tensorflow.keras.callbacks import ModelCheckpoint, LearningRateScheduler"
      ],
      "metadata": {
        "trusted": true,
        "execution": {
          "iopub.status.busy": "2025-01-03T19:25:54.910712Z",
          "iopub.execute_input": "2025-01-03T19:25:54.911084Z",
          "iopub.status.idle": "2025-01-03T19:25:54.920437Z",
          "shell.execute_reply.started": "2025-01-03T19:25:54.911054Z",
          "shell.execute_reply": "2025-01-03T19:25:54.919464Z"
        },
        "id": "gx0Fk3P3pqPQ"
      },
      "outputs": [],
      "execution_count": 36
    },
    {
      "cell_type": "code",
      "source": [
        "data.as_numpy_iterator().next()[0][0].shape"
      ],
      "metadata": {
        "trusted": true,
        "execution": {
          "iopub.status.busy": "2025-01-03T19:28:29.801417Z",
          "iopub.execute_input": "2025-01-03T19:28:29.801856Z",
          "iopub.status.idle": "2025-01-03T19:28:30.845812Z",
          "shell.execute_reply.started": "2025-01-03T19:28:29.801819Z",
          "shell.execute_reply": "2025-01-03T19:28:30.844417Z"
        },
        "colab": {
          "base_uri": "https://localhost:8080/"
        },
        "id": "Ko5hUULSpqPQ",
        "outputId": "178974a5-4174-4bbf-a62a-bd1a9a380e98"
      },
      "outputs": [
        {
          "output_type": "execute_result",
          "data": {
            "text/plain": [
              "(75, 46, 140, 1)"
            ]
          },
          "metadata": {},
          "execution_count": 37
        }
      ],
      "execution_count": 37
    },
    {
      "cell_type": "code",
      "source": [
        "model = Sequential()\n",
        "model.add(Conv3D(128, 3, input_shape=(75,46,140,1), padding='same'))\n",
        "model.add(Activation('relu'))\n",
        "model.add(MaxPool3D((1,2,2)))\n",
        "\n",
        "model.add(Conv3D(256, 3, padding='same'))\n",
        "model.add(Activation('relu'))\n",
        "model.add(MaxPool3D((1,2,2)))\n",
        "\n",
        "model.add(Conv3D(75, 3, padding='same'))\n",
        "model.add(Activation('relu'))\n",
        "model.add(MaxPool3D((1,2,2)))\n",
        "\n",
        "model.add(TimeDistributed(Flatten()))\n",
        "\n",
        "model.add(Bidirectional(LSTM(128, kernel_initializer='Orthogonal', return_sequences=True)))\n",
        "model.add(Dropout(.5))\n",
        "\n",
        "model.add(Bidirectional(LSTM(128, kernel_initializer='Orthogonal', return_sequences=True)))\n",
        "model.add(Dropout(.5))\n",
        "\n",
        "model.add(Dense(char_to_num.vocabulary_size()+1, kernel_initializer='he_normal', activation='softmax'))"
      ],
      "metadata": {
        "trusted": true,
        "execution": {
          "iopub.status.busy": "2025-01-03T19:28:32.976718Z",
          "iopub.execute_input": "2025-01-03T19:28:32.977077Z",
          "iopub.status.idle": "2025-01-03T19:28:34.723045Z",
          "shell.execute_reply.started": "2025-01-03T19:28:32.97705Z",
          "shell.execute_reply": "2025-01-03T19:28:34.721927Z"
        },
        "colab": {
          "base_uri": "https://localhost:8080/"
        },
        "id": "oOS-gzmvpqPQ",
        "outputId": "6308ceb5-dcbe-445d-d749-c980a74f080d"
      },
      "outputs": [
        {
          "output_type": "stream",
          "name": "stderr",
          "text": [
            "/usr/local/lib/python3.10/dist-packages/keras/src/layers/convolutional/base_conv.py:107: UserWarning: Do not pass an `input_shape`/`input_dim` argument to a layer. When using Sequential models, prefer using an `Input(shape)` object as the first layer in the model instead.\n",
            "  super().__init__(activity_regularizer=activity_regularizer, **kwargs)\n"
          ]
        }
      ],
      "execution_count": 38
    },
    {
      "cell_type": "code",
      "source": [
        "yhat = model.predict(val[0])"
      ],
      "metadata": {
        "trusted": true,
        "execution": {
          "iopub.status.busy": "2025-01-03T19:28:38.527491Z",
          "iopub.execute_input": "2025-01-03T19:28:38.527862Z",
          "iopub.status.idle": "2025-01-03T19:28:45.283616Z",
          "shell.execute_reply.started": "2025-01-03T19:28:38.527833Z",
          "shell.execute_reply": "2025-01-03T19:28:45.282571Z"
        },
        "colab": {
          "base_uri": "https://localhost:8080/"
        },
        "id": "jC9vYPn5pqPQ",
        "outputId": "ac462bd6-7807-4d9f-c2f1-a79528e98733"
      },
      "outputs": [
        {
          "output_type": "stream",
          "name": "stdout",
          "text": [
            "\u001b[1m1/1\u001b[0m \u001b[32m━━━━━━━━━━━━━━━━━━━━\u001b[0m\u001b[37m\u001b[0m \u001b[1m3s\u001b[0m 3s/step\n"
          ]
        }
      ],
      "execution_count": 39
    },
    {
      "cell_type": "code",
      "source": [
        "tf.strings.reduce_join([num_to_char(x) for x in tf.argmax(yhat[0],axis=1)])"
      ],
      "metadata": {
        "trusted": true,
        "execution": {
          "iopub.status.busy": "2025-01-03T19:28:47.277034Z",
          "iopub.execute_input": "2025-01-03T19:28:47.277442Z",
          "iopub.status.idle": "2025-01-03T19:28:47.345921Z",
          "shell.execute_reply.started": "2025-01-03T19:28:47.277399Z",
          "shell.execute_reply": "2025-01-03T19:28:47.344816Z"
        },
        "colab": {
          "base_uri": "https://localhost:8080/"
        },
        "id": "eI8e7cmXpqPR",
        "outputId": "02c889f4-3494-4e4f-8f90-7dbb981f3107"
      },
      "outputs": [
        {
          "output_type": "execute_result",
          "data": {
            "text/plain": [
              "<tf.Tensor: shape=(), dtype=string, numpy=b'rrrryy11111111111111111111111111111111111111111111111111111111111111111111g'>"
            ]
          },
          "metadata": {},
          "execution_count": 40
        }
      ],
      "execution_count": 40
    },
    {
      "cell_type": "code",
      "source": [
        "tf.strings.reduce_join([num_to_char(tf.argmax(x)) for x in yhat[0]])"
      ],
      "metadata": {
        "trusted": true,
        "execution": {
          "iopub.status.busy": "2025-01-03T19:28:49.218525Z",
          "iopub.execute_input": "2025-01-03T19:28:49.218917Z",
          "iopub.status.idle": "2025-01-03T19:28:49.271515Z",
          "shell.execute_reply.started": "2025-01-03T19:28:49.218885Z",
          "shell.execute_reply": "2025-01-03T19:28:49.270519Z"
        },
        "colab": {
          "base_uri": "https://localhost:8080/"
        },
        "id": "dwBMN7j3pqPR",
        "outputId": "2ef3f9fb-8113-4110-fc6c-3db94da97fff"
      },
      "outputs": [
        {
          "output_type": "execute_result",
          "data": {
            "text/plain": [
              "<tf.Tensor: shape=(), dtype=string, numpy=b'rrrryy11111111111111111111111111111111111111111111111111111111111111111111g'>"
            ]
          },
          "metadata": {},
          "execution_count": 41
        }
      ],
      "execution_count": 41
    },
    {
      "cell_type": "code",
      "source": [
        "model.input_shape\n",
        "model.output_shape"
      ],
      "metadata": {
        "trusted": true,
        "execution": {
          "iopub.status.busy": "2025-01-03T19:28:51.466632Z",
          "iopub.execute_input": "2025-01-03T19:28:51.467046Z",
          "iopub.status.idle": "2025-01-03T19:28:51.473685Z",
          "shell.execute_reply.started": "2025-01-03T19:28:51.467012Z",
          "shell.execute_reply": "2025-01-03T19:28:51.472642Z"
        },
        "colab": {
          "base_uri": "https://localhost:8080/"
        },
        "id": "bSMGAhdMpqPR",
        "outputId": "94b44665-6bc1-4b4c-9691-ff73bd9399da"
      },
      "outputs": [
        {
          "output_type": "execute_result",
          "data": {
            "text/plain": [
              "(None, 75, 41)"
            ]
          },
          "metadata": {},
          "execution_count": 42
        }
      ],
      "execution_count": 42
    },
    {
      "cell_type": "markdown",
      "source": [
        "training options"
      ],
      "metadata": {
        "id": "lxU_sI8GpqPR"
      }
    },
    {
      "cell_type": "code",
      "source": [
        "def scheduler(epoch, lr):\n",
        "    if epoch < 30:\n",
        "        return lr\n",
        "    else:\n",
        "        return lr * tf.math.exp(-0.1)"
      ],
      "metadata": {
        "trusted": true,
        "execution": {
          "iopub.status.busy": "2025-01-03T19:28:54.364914Z",
          "iopub.execute_input": "2025-01-03T19:28:54.365284Z",
          "iopub.status.idle": "2025-01-03T19:28:54.370229Z",
          "shell.execute_reply.started": "2025-01-03T19:28:54.365252Z",
          "shell.execute_reply": "2025-01-03T19:28:54.368994Z"
        },
        "id": "YzJV5CFNpqPR"
      },
      "outputs": [],
      "execution_count": 43
    },
    {
      "cell_type": "code",
      "source": [
        "def CTCLoss(y_true, y_pred):\n",
        "    batch_len = tf.cast(tf.shape(y_true)[0], dtype=\"int64\")\n",
        "    input_length = tf.cast(tf.shape(y_pred)[1], dtype=\"int64\")\n",
        "    label_length = tf.cast(tf.shape(y_true)[1], dtype=\"int64\")\n",
        "\n",
        "    input_length = input_length * tf.ones(shape=(batch_len, 1), dtype=\"int64\")\n",
        "    label_length = label_length * tf.ones(shape=(batch_len, 1), dtype=\"int64\")\n",
        "\n",
        "    loss = tf.keras.backend.ctc_batch_cost(y_true, y_pred, input_length, label_length)\n",
        "    return loss"
      ],
      "metadata": {
        "trusted": true,
        "execution": {
          "iopub.status.busy": "2025-01-03T19:28:56.237567Z",
          "iopub.execute_input": "2025-01-03T19:28:56.237968Z",
          "iopub.status.idle": "2025-01-03T19:28:56.244344Z",
          "shell.execute_reply.started": "2025-01-03T19:28:56.237935Z",
          "shell.execute_reply": "2025-01-03T19:28:56.242901Z"
        },
        "id": "nvpeayH1pqPR"
      },
      "outputs": [],
      "execution_count": 44
    },
    {
      "cell_type": "code",
      "source": [
        "class ProduceExample(tf.keras.callbacks.Callback):\n",
        "    def __init__(self, dataset) -> None:\n",
        "        self.dataset = dataset.as_numpy_iterator()\n",
        "\n",
        "    def on_epoch_end(self, epoch, logs=None) -> None:\n",
        "        data = self.dataset.next()\n",
        "        yhat = self.model.predict(data[0])\n",
        "        decoded = tf.keras.backend.ctc_decode(yhat, [75,75], greedy=False)[0][0].numpy()\n",
        "        for x in range(len(yhat)):\n",
        "            print('Original:', tf.strings.reduce_join(num_to_char(data[1][x])).numpy().decode('utf-8'))\n",
        "            print('Prediction:', tf.strings.reduce_join(num_to_char(decoded[x])).numpy().decode('utf-8'))\n",
        "            print('~'*100)"
      ],
      "metadata": {
        "trusted": true,
        "execution": {
          "iopub.status.busy": "2025-01-03T19:28:58.271312Z",
          "iopub.execute_input": "2025-01-03T19:28:58.271712Z",
          "iopub.status.idle": "2025-01-03T19:28:58.279161Z",
          "shell.execute_reply.started": "2025-01-03T19:28:58.271679Z",
          "shell.execute_reply": "2025-01-03T19:28:58.277899Z"
        },
        "id": "MJIYEn4XpqPR"
      },
      "outputs": [],
      "execution_count": 45
    },
    {
      "cell_type": "code",
      "source": [
        "model.compile(optimizer=Adam(learning_rate=0.0001), loss=CTCLoss)"
      ],
      "metadata": {
        "trusted": true,
        "execution": {
          "iopub.status.busy": "2025-01-03T19:29:01.543557Z",
          "iopub.execute_input": "2025-01-03T19:29:01.543952Z",
          "iopub.status.idle": "2025-01-03T19:29:01.555012Z",
          "shell.execute_reply.started": "2025-01-03T19:29:01.543916Z",
          "shell.execute_reply": "2025-01-03T19:29:01.553705Z"
        },
        "id": "CpbNupIepqPR"
      },
      "outputs": [],
      "execution_count": 46
    },
    {
      "cell_type": "code",
      "source": [
        "checkpoint_callback = ModelCheckpoint(os.path.join('models','checkpoint.weights.h5'), monitor='loss', save_weights_only=True)"
      ],
      "metadata": {
        "trusted": true,
        "execution": {
          "iopub.status.busy": "2025-01-03T19:29:06.228689Z",
          "iopub.execute_input": "2025-01-03T19:29:06.229115Z",
          "iopub.status.idle": "2025-01-03T19:29:06.234594Z",
          "shell.execute_reply.started": "2025-01-03T19:29:06.22907Z",
          "shell.execute_reply": "2025-01-03T19:29:06.23317Z"
        },
        "id": "J3smQnEBpqPR"
      },
      "outputs": [],
      "execution_count": 48
    },
    {
      "cell_type": "code",
      "source": [
        "schedule_callback = LearningRateScheduler(scheduler)"
      ],
      "metadata": {
        "trusted": true,
        "execution": {
          "iopub.status.busy": "2025-01-03T19:29:09.250001Z",
          "iopub.execute_input": "2025-01-03T19:29:09.250361Z",
          "iopub.status.idle": "2025-01-03T19:29:09.255259Z",
          "shell.execute_reply.started": "2025-01-03T19:29:09.250329Z",
          "shell.execute_reply": "2025-01-03T19:29:09.253713Z"
        },
        "id": "v4kjTb17pqPR"
      },
      "outputs": [],
      "execution_count": 49
    },
    {
      "cell_type": "code",
      "source": [
        "example_callback = ProduceExample(test)"
      ],
      "metadata": {
        "trusted": true,
        "execution": {
          "iopub.status.busy": "2025-01-03T19:30:05.397363Z",
          "iopub.execute_input": "2025-01-03T19:30:05.397734Z",
          "iopub.status.idle": "2025-01-03T19:30:05.418483Z",
          "shell.execute_reply.started": "2025-01-03T19:30:05.397705Z",
          "shell.execute_reply": "2025-01-03T19:30:05.416816Z"
        },
        "id": "IfldhlVypqPS"
      },
      "outputs": [],
      "execution_count": 50
    },
    {
      "cell_type": "code",
      "source": [
        "model.fit(train, validation_data=test, epochs=100, callbacks=[checkpoint_callback, schedule_callback, example_callback])"
      ],
      "metadata": {
        "trusted": true,
        "colab": {
          "base_uri": "https://localhost:8080/",
          "height": 1000
        },
        "id": "bwsfc3fupqPS",
        "outputId": "7ab22212-7815-4692-8768-a927bf2584cf"
      },
      "outputs": [
        {
          "output_type": "stream",
          "name": "stdout",
          "text": [
            "Epoch 1/100\n"
          ]
        },
        {
          "output_type": "error",
          "ename": "InvalidArgumentError",
          "evalue": "Graph execution error:\n\nDetected at node sequential_1/time_distributed_1/Reshape_8 defined at (most recent call last):\n  File \"/usr/lib/python3.10/runpy.py\", line 196, in _run_module_as_main\n\n  File \"/usr/lib/python3.10/runpy.py\", line 86, in _run_code\n\n  File \"/usr/local/lib/python3.10/dist-packages/colab_kernel_launcher.py\", line 37, in <module>\n\n  File \"/usr/local/lib/python3.10/dist-packages/traitlets/config/application.py\", line 992, in launch_instance\n\n  File \"/usr/local/lib/python3.10/dist-packages/ipykernel/kernelapp.py\", line 619, in start\n\n  File \"/usr/local/lib/python3.10/dist-packages/tornado/platform/asyncio.py\", line 195, in start\n\n  File \"/usr/lib/python3.10/asyncio/base_events.py\", line 603, in run_forever\n\n  File \"/usr/lib/python3.10/asyncio/base_events.py\", line 1909, in _run_once\n\n  File \"/usr/lib/python3.10/asyncio/events.py\", line 80, in _run\n\n  File \"/usr/local/lib/python3.10/dist-packages/tornado/ioloop.py\", line 685, in <lambda>\n\n  File \"/usr/local/lib/python3.10/dist-packages/tornado/ioloop.py\", line 738, in _run_callback\n\n  File \"/usr/local/lib/python3.10/dist-packages/tornado/gen.py\", line 825, in inner\n\n  File \"/usr/local/lib/python3.10/dist-packages/tornado/gen.py\", line 786, in run\n\n  File \"/usr/local/lib/python3.10/dist-packages/ipykernel/kernelbase.py\", line 361, in process_one\n\n  File \"/usr/local/lib/python3.10/dist-packages/tornado/gen.py\", line 234, in wrapper\n\n  File \"/usr/local/lib/python3.10/dist-packages/ipykernel/kernelbase.py\", line 261, in dispatch_shell\n\n  File \"/usr/local/lib/python3.10/dist-packages/tornado/gen.py\", line 234, in wrapper\n\n  File \"/usr/local/lib/python3.10/dist-packages/ipykernel/kernelbase.py\", line 539, in execute_request\n\n  File \"/usr/local/lib/python3.10/dist-packages/tornado/gen.py\", line 234, in wrapper\n\n  File \"/usr/local/lib/python3.10/dist-packages/ipykernel/ipkernel.py\", line 302, in do_execute\n\n  File \"/usr/local/lib/python3.10/dist-packages/ipykernel/zmqshell.py\", line 539, in run_cell\n\n  File \"/usr/local/lib/python3.10/dist-packages/IPython/core/interactiveshell.py\", line 2975, in run_cell\n\n  File \"/usr/local/lib/python3.10/dist-packages/IPython/core/interactiveshell.py\", line 3030, in _run_cell\n\n  File \"/usr/local/lib/python3.10/dist-packages/IPython/core/async_helpers.py\", line 78, in _pseudo_sync_runner\n\n  File \"/usr/local/lib/python3.10/dist-packages/IPython/core/interactiveshell.py\", line 3257, in run_cell_async\n\n  File \"/usr/local/lib/python3.10/dist-packages/IPython/core/interactiveshell.py\", line 3473, in run_ast_nodes\n\n  File \"/usr/local/lib/python3.10/dist-packages/IPython/core/interactiveshell.py\", line 3553, in run_code\n\n  File \"<ipython-input-51-3f54ab0eeaa9>\", line 1, in <cell line: 1>\n\n  File \"/usr/local/lib/python3.10/dist-packages/keras/src/utils/traceback_utils.py\", line 117, in error_handler\n\n  File \"/usr/local/lib/python3.10/dist-packages/keras/src/backend/tensorflow/trainer.py\", line 320, in fit\n\n  File \"/usr/local/lib/python3.10/dist-packages/keras/src/backend/tensorflow/trainer.py\", line 121, in one_step_on_iterator\n\n  File \"/usr/local/lib/python3.10/dist-packages/keras/src/backend/tensorflow/trainer.py\", line 108, in one_step_on_data\n\n  File \"/usr/local/lib/python3.10/dist-packages/keras/src/backend/tensorflow/trainer.py\", line 51, in train_step\n\n  File \"/usr/local/lib/python3.10/dist-packages/keras/src/utils/traceback_utils.py\", line 117, in error_handler\n\n  File \"/usr/local/lib/python3.10/dist-packages/keras/src/layers/layer.py\", line 901, in __call__\n\n  File \"/usr/local/lib/python3.10/dist-packages/keras/src/utils/traceback_utils.py\", line 117, in error_handler\n\n  File \"/usr/local/lib/python3.10/dist-packages/keras/src/ops/operation.py\", line 46, in __call__\n\n  File \"/usr/local/lib/python3.10/dist-packages/keras/src/utils/traceback_utils.py\", line 156, in error_handler\n\n  File \"/usr/local/lib/python3.10/dist-packages/keras/src/models/sequential.py\", line 212, in call\n\n  File \"/usr/local/lib/python3.10/dist-packages/keras/src/models/functional.py\", line 175, in call\n\n  File \"/usr/local/lib/python3.10/dist-packages/keras/src/ops/function.py\", line 171, in _run_through_graph\n\n  File \"/usr/local/lib/python3.10/dist-packages/keras/src/models/functional.py\", line 560, in call\n\n  File \"/usr/local/lib/python3.10/dist-packages/keras/src/utils/traceback_utils.py\", line 117, in error_handler\n\n  File \"/usr/local/lib/python3.10/dist-packages/keras/src/layers/layer.py\", line 901, in __call__\n\n  File \"/usr/local/lib/python3.10/dist-packages/keras/src/utils/traceback_utils.py\", line 117, in error_handler\n\n  File \"/usr/local/lib/python3.10/dist-packages/keras/src/ops/operation.py\", line 46, in __call__\n\n  File \"/usr/local/lib/python3.10/dist-packages/keras/src/utils/traceback_utils.py\", line 156, in error_handler\n\n  File \"/usr/local/lib/python3.10/dist-packages/keras/src/layers/rnn/time_distributed.py\", line 108, in call\n\n  File \"/usr/local/lib/python3.10/dist-packages/keras/src/layers/rnn/time_distributed.py\", line 108, in <listcomp>\n\n  File \"/usr/local/lib/python3.10/dist-packages/keras/src/layers/rnn/time_distributed.py\", line 102, in step_function\n\n  File \"/usr/local/lib/python3.10/dist-packages/keras/src/layers/reshaping/flatten.py\", line 54, in call\n\n  File \"/usr/local/lib/python3.10/dist-packages/keras/src/ops/numpy.py\", line 4440, in reshape\n\n  File \"/usr/local/lib/python3.10/dist-packages/keras/src/backend/tensorflow/numpy.py\", line 1789, in reshape\n\nDetected at node sequential_1/time_distributed_1/Reshape_8 defined at (most recent call last):\n  File \"/usr/lib/python3.10/runpy.py\", line 196, in _run_module_as_main\n\n  File \"/usr/lib/python3.10/runpy.py\", line 86, in _run_code\n\n  File \"/usr/local/lib/python3.10/dist-packages/colab_kernel_launcher.py\", line 37, in <module>\n\n  File \"/usr/local/lib/python3.10/dist-packages/traitlets/config/application.py\", line 992, in launch_instance\n\n  File \"/usr/local/lib/python3.10/dist-packages/ipykernel/kernelapp.py\", line 619, in start\n\n  File \"/usr/local/lib/python3.10/dist-packages/tornado/platform/asyncio.py\", line 195, in start\n\n  File \"/usr/lib/python3.10/asyncio/base_events.py\", line 603, in run_forever\n\n  File \"/usr/lib/python3.10/asyncio/base_events.py\", line 1909, in _run_once\n\n  File \"/usr/lib/python3.10/asyncio/events.py\", line 80, in _run\n\n  File \"/usr/local/lib/python3.10/dist-packages/tornado/ioloop.py\", line 685, in <lambda>\n\n  File \"/usr/local/lib/python3.10/dist-packages/tornado/ioloop.py\", line 738, in _run_callback\n\n  File \"/usr/local/lib/python3.10/dist-packages/tornado/gen.py\", line 825, in inner\n\n  File \"/usr/local/lib/python3.10/dist-packages/tornado/gen.py\", line 786, in run\n\n  File \"/usr/local/lib/python3.10/dist-packages/ipykernel/kernelbase.py\", line 361, in process_one\n\n  File \"/usr/local/lib/python3.10/dist-packages/tornado/gen.py\", line 234, in wrapper\n\n  File \"/usr/local/lib/python3.10/dist-packages/ipykernel/kernelbase.py\", line 261, in dispatch_shell\n\n  File \"/usr/local/lib/python3.10/dist-packages/tornado/gen.py\", line 234, in wrapper\n\n  File \"/usr/local/lib/python3.10/dist-packages/ipykernel/kernelbase.py\", line 539, in execute_request\n\n  File \"/usr/local/lib/python3.10/dist-packages/tornado/gen.py\", line 234, in wrapper\n\n  File \"/usr/local/lib/python3.10/dist-packages/ipykernel/ipkernel.py\", line 302, in do_execute\n\n  File \"/usr/local/lib/python3.10/dist-packages/ipykernel/zmqshell.py\", line 539, in run_cell\n\n  File \"/usr/local/lib/python3.10/dist-packages/IPython/core/interactiveshell.py\", line 2975, in run_cell\n\n  File \"/usr/local/lib/python3.10/dist-packages/IPython/core/interactiveshell.py\", line 3030, in _run_cell\n\n  File \"/usr/local/lib/python3.10/dist-packages/IPython/core/async_helpers.py\", line 78, in _pseudo_sync_runner\n\n  File \"/usr/local/lib/python3.10/dist-packages/IPython/core/interactiveshell.py\", line 3257, in run_cell_async\n\n  File \"/usr/local/lib/python3.10/dist-packages/IPython/core/interactiveshell.py\", line 3473, in run_ast_nodes\n\n  File \"/usr/local/lib/python3.10/dist-packages/IPython/core/interactiveshell.py\", line 3553, in run_code\n\n  File \"<ipython-input-51-3f54ab0eeaa9>\", line 1, in <cell line: 1>\n\n  File \"/usr/local/lib/python3.10/dist-packages/keras/src/utils/traceback_utils.py\", line 117, in error_handler\n\n  File \"/usr/local/lib/python3.10/dist-packages/keras/src/backend/tensorflow/trainer.py\", line 320, in fit\n\n  File \"/usr/local/lib/python3.10/dist-packages/keras/src/backend/tensorflow/trainer.py\", line 121, in one_step_on_iterator\n\n  File \"/usr/local/lib/python3.10/dist-packages/keras/src/backend/tensorflow/trainer.py\", line 108, in one_step_on_data\n\n  File \"/usr/local/lib/python3.10/dist-packages/keras/src/backend/tensorflow/trainer.py\", line 51, in train_step\n\n  File \"/usr/local/lib/python3.10/dist-packages/keras/src/utils/traceback_utils.py\", line 117, in error_handler\n\n  File \"/usr/local/lib/python3.10/dist-packages/keras/src/layers/layer.py\", line 901, in __call__\n\n  File \"/usr/local/lib/python3.10/dist-packages/keras/src/utils/traceback_utils.py\", line 117, in error_handler\n\n  File \"/usr/local/lib/python3.10/dist-packages/keras/src/ops/operation.py\", line 46, in __call__\n\n  File \"/usr/local/lib/python3.10/dist-packages/keras/src/utils/traceback_utils.py\", line 156, in error_handler\n\n  File \"/usr/local/lib/python3.10/dist-packages/keras/src/models/sequential.py\", line 212, in call\n\n  File \"/usr/local/lib/python3.10/dist-packages/keras/src/models/functional.py\", line 175, in call\n\n  File \"/usr/local/lib/python3.10/dist-packages/keras/src/ops/function.py\", line 171, in _run_through_graph\n\n  File \"/usr/local/lib/python3.10/dist-packages/keras/src/models/functional.py\", line 560, in call\n\n  File \"/usr/local/lib/python3.10/dist-packages/keras/src/utils/traceback_utils.py\", line 117, in error_handler\n\n  File \"/usr/local/lib/python3.10/dist-packages/keras/src/layers/layer.py\", line 901, in __call__\n\n  File \"/usr/local/lib/python3.10/dist-packages/keras/src/utils/traceback_utils.py\", line 117, in error_handler\n\n  File \"/usr/local/lib/python3.10/dist-packages/keras/src/ops/operation.py\", line 46, in __call__\n\n  File \"/usr/local/lib/python3.10/dist-packages/keras/src/utils/traceback_utils.py\", line 156, in error_handler\n\n  File \"/usr/local/lib/python3.10/dist-packages/keras/src/layers/rnn/time_distributed.py\", line 108, in call\n\n  File \"/usr/local/lib/python3.10/dist-packages/keras/src/layers/rnn/time_distributed.py\", line 108, in <listcomp>\n\n  File \"/usr/local/lib/python3.10/dist-packages/keras/src/layers/rnn/time_distributed.py\", line 102, in step_function\n\n  File \"/usr/local/lib/python3.10/dist-packages/keras/src/layers/reshaping/flatten.py\", line 54, in call\n\n  File \"/usr/local/lib/python3.10/dist-packages/keras/src/ops/numpy.py\", line 4440, in reshape\n\n  File \"/usr/local/lib/python3.10/dist-packages/keras/src/backend/tensorflow/numpy.py\", line 1789, in reshape\n\n2 root error(s) found.\n  (0) INVALID_ARGUMENT:  Only one input size may be -1, not both 0 and 1\n\t [[{{node sequential_1/time_distributed_1/Reshape_8}}]]\n\t [[StatefulPartitionedCall/compile_loss/ctc_loss/ArithmeticOptimizer/ReorderCastLikeAndValuePreserving_int32_Squeeze_1/_78]]\n  (1) INVALID_ARGUMENT:  Only one input size may be -1, not both 0 and 1\n\t [[{{node sequential_1/time_distributed_1/Reshape_8}}]]\n0 successful operations.\n0 derived errors ignored. [Op:__inference_one_step_on_iterator_30200]",
          "traceback": [
            "\u001b[0;31m---------------------------------------------------------------------------\u001b[0m",
            "\u001b[0;31mInvalidArgumentError\u001b[0m                      Traceback (most recent call last)",
            "\u001b[0;32m<ipython-input-51-3f54ab0eeaa9>\u001b[0m in \u001b[0;36m<cell line: 1>\u001b[0;34m()\u001b[0m\n\u001b[0;32m----> 1\u001b[0;31m \u001b[0mmodel\u001b[0m\u001b[0;34m.\u001b[0m\u001b[0mfit\u001b[0m\u001b[0;34m(\u001b[0m\u001b[0mtrain\u001b[0m\u001b[0;34m,\u001b[0m \u001b[0mvalidation_data\u001b[0m\u001b[0;34m=\u001b[0m\u001b[0mtest\u001b[0m\u001b[0;34m,\u001b[0m \u001b[0mepochs\u001b[0m\u001b[0;34m=\u001b[0m\u001b[0;36m100\u001b[0m\u001b[0;34m,\u001b[0m \u001b[0mcallbacks\u001b[0m\u001b[0;34m=\u001b[0m\u001b[0;34m[\u001b[0m\u001b[0mcheckpoint_callback\u001b[0m\u001b[0;34m,\u001b[0m \u001b[0mschedule_callback\u001b[0m\u001b[0;34m,\u001b[0m \u001b[0mexample_callback\u001b[0m\u001b[0;34m]\u001b[0m\u001b[0;34m)\u001b[0m\u001b[0;34m\u001b[0m\u001b[0;34m\u001b[0m\u001b[0m\n\u001b[0m",
            "\u001b[0;32m/usr/local/lib/python3.10/dist-packages/keras/src/utils/traceback_utils.py\u001b[0m in \u001b[0;36merror_handler\u001b[0;34m(*args, **kwargs)\u001b[0m\n\u001b[1;32m    120\u001b[0m             \u001b[0;31m# To get the full stack trace, call:\u001b[0m\u001b[0;34m\u001b[0m\u001b[0;34m\u001b[0m\u001b[0m\n\u001b[1;32m    121\u001b[0m             \u001b[0;31m# `keras.config.disable_traceback_filtering()`\u001b[0m\u001b[0;34m\u001b[0m\u001b[0;34m\u001b[0m\u001b[0m\n\u001b[0;32m--> 122\u001b[0;31m             \u001b[0;32mraise\u001b[0m \u001b[0me\u001b[0m\u001b[0;34m.\u001b[0m\u001b[0mwith_traceback\u001b[0m\u001b[0;34m(\u001b[0m\u001b[0mfiltered_tb\u001b[0m\u001b[0;34m)\u001b[0m \u001b[0;32mfrom\u001b[0m \u001b[0;32mNone\u001b[0m\u001b[0;34m\u001b[0m\u001b[0;34m\u001b[0m\u001b[0m\n\u001b[0m\u001b[1;32m    123\u001b[0m         \u001b[0;32mfinally\u001b[0m\u001b[0;34m:\u001b[0m\u001b[0;34m\u001b[0m\u001b[0;34m\u001b[0m\u001b[0m\n\u001b[1;32m    124\u001b[0m             \u001b[0;32mdel\u001b[0m \u001b[0mfiltered_tb\u001b[0m\u001b[0;34m\u001b[0m\u001b[0;34m\u001b[0m\u001b[0m\n",
            "\u001b[0;32m/usr/local/lib/python3.10/dist-packages/tensorflow/python/eager/execute.py\u001b[0m in \u001b[0;36mquick_execute\u001b[0;34m(op_name, num_outputs, inputs, attrs, ctx, name)\u001b[0m\n\u001b[1;32m     51\u001b[0m   \u001b[0;32mtry\u001b[0m\u001b[0;34m:\u001b[0m\u001b[0;34m\u001b[0m\u001b[0;34m\u001b[0m\u001b[0m\n\u001b[1;32m     52\u001b[0m     \u001b[0mctx\u001b[0m\u001b[0;34m.\u001b[0m\u001b[0mensure_initialized\u001b[0m\u001b[0;34m(\u001b[0m\u001b[0;34m)\u001b[0m\u001b[0;34m\u001b[0m\u001b[0;34m\u001b[0m\u001b[0m\n\u001b[0;32m---> 53\u001b[0;31m     tensors = pywrap_tfe.TFE_Py_Execute(ctx._handle, device_name, op_name,\n\u001b[0m\u001b[1;32m     54\u001b[0m                                         inputs, attrs, num_outputs)\n\u001b[1;32m     55\u001b[0m   \u001b[0;32mexcept\u001b[0m \u001b[0mcore\u001b[0m\u001b[0;34m.\u001b[0m\u001b[0m_NotOkStatusException\u001b[0m \u001b[0;32mas\u001b[0m \u001b[0me\u001b[0m\u001b[0;34m:\u001b[0m\u001b[0;34m\u001b[0m\u001b[0;34m\u001b[0m\u001b[0m\n",
            "\u001b[0;31mInvalidArgumentError\u001b[0m: Graph execution error:\n\nDetected at node sequential_1/time_distributed_1/Reshape_8 defined at (most recent call last):\n  File \"/usr/lib/python3.10/runpy.py\", line 196, in _run_module_as_main\n\n  File \"/usr/lib/python3.10/runpy.py\", line 86, in _run_code\n\n  File \"/usr/local/lib/python3.10/dist-packages/colab_kernel_launcher.py\", line 37, in <module>\n\n  File \"/usr/local/lib/python3.10/dist-packages/traitlets/config/application.py\", line 992, in launch_instance\n\n  File \"/usr/local/lib/python3.10/dist-packages/ipykernel/kernelapp.py\", line 619, in start\n\n  File \"/usr/local/lib/python3.10/dist-packages/tornado/platform/asyncio.py\", line 195, in start\n\n  File \"/usr/lib/python3.10/asyncio/base_events.py\", line 603, in run_forever\n\n  File \"/usr/lib/python3.10/asyncio/base_events.py\", line 1909, in _run_once\n\n  File \"/usr/lib/python3.10/asyncio/events.py\", line 80, in _run\n\n  File \"/usr/local/lib/python3.10/dist-packages/tornado/ioloop.py\", line 685, in <lambda>\n\n  File \"/usr/local/lib/python3.10/dist-packages/tornado/ioloop.py\", line 738, in _run_callback\n\n  File \"/usr/local/lib/python3.10/dist-packages/tornado/gen.py\", line 825, in inner\n\n  File \"/usr/local/lib/python3.10/dist-packages/tornado/gen.py\", line 786, in run\n\n  File \"/usr/local/lib/python3.10/dist-packages/ipykernel/kernelbase.py\", line 361, in process_one\n\n  File \"/usr/local/lib/python3.10/dist-packages/tornado/gen.py\", line 234, in wrapper\n\n  File \"/usr/local/lib/python3.10/dist-packages/ipykernel/kernelbase.py\", line 261, in dispatch_shell\n\n  File \"/usr/local/lib/python3.10/dist-packages/tornado/gen.py\", line 234, in wrapper\n\n  File \"/usr/local/lib/python3.10/dist-packages/ipykernel/kernelbase.py\", line 539, in execute_request\n\n  File \"/usr/local/lib/python3.10/dist-packages/tornado/gen.py\", line 234, in wrapper\n\n  File \"/usr/local/lib/python3.10/dist-packages/ipykernel/ipkernel.py\", line 302, in do_execute\n\n  File \"/usr/local/lib/python3.10/dist-packages/ipykernel/zmqshell.py\", line 539, in run_cell\n\n  File \"/usr/local/lib/python3.10/dist-packages/IPython/core/interactiveshell.py\", line 2975, in run_cell\n\n  File \"/usr/local/lib/python3.10/dist-packages/IPython/core/interactiveshell.py\", line 3030, in _run_cell\n\n  File \"/usr/local/lib/python3.10/dist-packages/IPython/core/async_helpers.py\", line 78, in _pseudo_sync_runner\n\n  File \"/usr/local/lib/python3.10/dist-packages/IPython/core/interactiveshell.py\", line 3257, in run_cell_async\n\n  File \"/usr/local/lib/python3.10/dist-packages/IPython/core/interactiveshell.py\", line 3473, in run_ast_nodes\n\n  File \"/usr/local/lib/python3.10/dist-packages/IPython/core/interactiveshell.py\", line 3553, in run_code\n\n  File \"<ipython-input-51-3f54ab0eeaa9>\", line 1, in <cell line: 1>\n\n  File \"/usr/local/lib/python3.10/dist-packages/keras/src/utils/traceback_utils.py\", line 117, in error_handler\n\n  File \"/usr/local/lib/python3.10/dist-packages/keras/src/backend/tensorflow/trainer.py\", line 320, in fit\n\n  File \"/usr/local/lib/python3.10/dist-packages/keras/src/backend/tensorflow/trainer.py\", line 121, in one_step_on_iterator\n\n  File \"/usr/local/lib/python3.10/dist-packages/keras/src/backend/tensorflow/trainer.py\", line 108, in one_step_on_data\n\n  File \"/usr/local/lib/python3.10/dist-packages/keras/src/backend/tensorflow/trainer.py\", line 51, in train_step\n\n  File \"/usr/local/lib/python3.10/dist-packages/keras/src/utils/traceback_utils.py\", line 117, in error_handler\n\n  File \"/usr/local/lib/python3.10/dist-packages/keras/src/layers/layer.py\", line 901, in __call__\n\n  File \"/usr/local/lib/python3.10/dist-packages/keras/src/utils/traceback_utils.py\", line 117, in error_handler\n\n  File \"/usr/local/lib/python3.10/dist-packages/keras/src/ops/operation.py\", line 46, in __call__\n\n  File \"/usr/local/lib/python3.10/dist-packages/keras/src/utils/traceback_utils.py\", line 156, in error_handler\n\n  File \"/usr/local/lib/python3.10/dist-packages/keras/src/models/sequential.py\", line 212, in call\n\n  File \"/usr/local/lib/python3.10/dist-packages/keras/src/models/functional.py\", line 175, in call\n\n  File \"/usr/local/lib/python3.10/dist-packages/keras/src/ops/function.py\", line 171, in _run_through_graph\n\n  File \"/usr/local/lib/python3.10/dist-packages/keras/src/models/functional.py\", line 560, in call\n\n  File \"/usr/local/lib/python3.10/dist-packages/keras/src/utils/traceback_utils.py\", line 117, in error_handler\n\n  File \"/usr/local/lib/python3.10/dist-packages/keras/src/layers/layer.py\", line 901, in __call__\n\n  File \"/usr/local/lib/python3.10/dist-packages/keras/src/utils/traceback_utils.py\", line 117, in error_handler\n\n  File \"/usr/local/lib/python3.10/dist-packages/keras/src/ops/operation.py\", line 46, in __call__\n\n  File \"/usr/local/lib/python3.10/dist-packages/keras/src/utils/traceback_utils.py\", line 156, in error_handler\n\n  File \"/usr/local/lib/python3.10/dist-packages/keras/src/layers/rnn/time_distributed.py\", line 108, in call\n\n  File \"/usr/local/lib/python3.10/dist-packages/keras/src/layers/rnn/time_distributed.py\", line 108, in <listcomp>\n\n  File \"/usr/local/lib/python3.10/dist-packages/keras/src/layers/rnn/time_distributed.py\", line 102, in step_function\n\n  File \"/usr/local/lib/python3.10/dist-packages/keras/src/layers/reshaping/flatten.py\", line 54, in call\n\n  File \"/usr/local/lib/python3.10/dist-packages/keras/src/ops/numpy.py\", line 4440, in reshape\n\n  File \"/usr/local/lib/python3.10/dist-packages/keras/src/backend/tensorflow/numpy.py\", line 1789, in reshape\n\nDetected at node sequential_1/time_distributed_1/Reshape_8 defined at (most recent call last):\n  File \"/usr/lib/python3.10/runpy.py\", line 196, in _run_module_as_main\n\n  File \"/usr/lib/python3.10/runpy.py\", line 86, in _run_code\n\n  File \"/usr/local/lib/python3.10/dist-packages/colab_kernel_launcher.py\", line 37, in <module>\n\n  File \"/usr/local/lib/python3.10/dist-packages/traitlets/config/application.py\", line 992, in launch_instance\n\n  File \"/usr/local/lib/python3.10/dist-packages/ipykernel/kernelapp.py\", line 619, in start\n\n  File \"/usr/local/lib/python3.10/dist-packages/tornado/platform/asyncio.py\", line 195, in start\n\n  File \"/usr/lib/python3.10/asyncio/base_events.py\", line 603, in run_forever\n\n  File \"/usr/lib/python3.10/asyncio/base_events.py\", line 1909, in _run_once\n\n  File \"/usr/lib/python3.10/asyncio/events.py\", line 80, in _run\n\n  File \"/usr/local/lib/python3.10/dist-packages/tornado/ioloop.py\", line 685, in <lambda>\n\n  File \"/usr/local/lib/python3.10/dist-packages/tornado/ioloop.py\", line 738, in _run_callback\n\n  File \"/usr/local/lib/python3.10/dist-packages/tornado/gen.py\", line 825, in inner\n\n  File \"/usr/local/lib/python3.10/dist-packages/tornado/gen.py\", line 786, in run\n\n  File \"/usr/local/lib/python3.10/dist-packages/ipykernel/kernelbase.py\", line 361, in process_one\n\n  File \"/usr/local/lib/python3.10/dist-packages/tornado/gen.py\", line 234, in wrapper\n\n  File \"/usr/local/lib/python3.10/dist-packages/ipykernel/kernelbase.py\", line 261, in dispatch_shell\n\n  File \"/usr/local/lib/python3.10/dist-packages/tornado/gen.py\", line 234, in wrapper\n\n  File \"/usr/local/lib/python3.10/dist-packages/ipykernel/kernelbase.py\", line 539, in execute_request\n\n  File \"/usr/local/lib/python3.10/dist-packages/tornado/gen.py\", line 234, in wrapper\n\n  File \"/usr/local/lib/python3.10/dist-packages/ipykernel/ipkernel.py\", line 302, in do_execute\n\n  File \"/usr/local/lib/python3.10/dist-packages/ipykernel/zmqshell.py\", line 539, in run_cell\n\n  File \"/usr/local/lib/python3.10/dist-packages/IPython/core/interactiveshell.py\", line 2975, in run_cell\n\n  File \"/usr/local/lib/python3.10/dist-packages/IPython/core/interactiveshell.py\", line 3030, in _run_cell\n\n  File \"/usr/local/lib/python3.10/dist-packages/IPython/core/async_helpers.py\", line 78, in _pseudo_sync_runner\n\n  File \"/usr/local/lib/python3.10/dist-packages/IPython/core/interactiveshell.py\", line 3257, in run_cell_async\n\n  File \"/usr/local/lib/python3.10/dist-packages/IPython/core/interactiveshell.py\", line 3473, in run_ast_nodes\n\n  File \"/usr/local/lib/python3.10/dist-packages/IPython/core/interactiveshell.py\", line 3553, in run_code\n\n  File \"<ipython-input-51-3f54ab0eeaa9>\", line 1, in <cell line: 1>\n\n  File \"/usr/local/lib/python3.10/dist-packages/keras/src/utils/traceback_utils.py\", line 117, in error_handler\n\n  File \"/usr/local/lib/python3.10/dist-packages/keras/src/backend/tensorflow/trainer.py\", line 320, in fit\n\n  File \"/usr/local/lib/python3.10/dist-packages/keras/src/backend/tensorflow/trainer.py\", line 121, in one_step_on_iterator\n\n  File \"/usr/local/lib/python3.10/dist-packages/keras/src/backend/tensorflow/trainer.py\", line 108, in one_step_on_data\n\n  File \"/usr/local/lib/python3.10/dist-packages/keras/src/backend/tensorflow/trainer.py\", line 51, in train_step\n\n  File \"/usr/local/lib/python3.10/dist-packages/keras/src/utils/traceback_utils.py\", line 117, in error_handler\n\n  File \"/usr/local/lib/python3.10/dist-packages/keras/src/layers/layer.py\", line 901, in __call__\n\n  File \"/usr/local/lib/python3.10/dist-packages/keras/src/utils/traceback_utils.py\", line 117, in error_handler\n\n  File \"/usr/local/lib/python3.10/dist-packages/keras/src/ops/operation.py\", line 46, in __call__\n\n  File \"/usr/local/lib/python3.10/dist-packages/keras/src/utils/traceback_utils.py\", line 156, in error_handler\n\n  File \"/usr/local/lib/python3.10/dist-packages/keras/src/models/sequential.py\", line 212, in call\n\n  File \"/usr/local/lib/python3.10/dist-packages/keras/src/models/functional.py\", line 175, in call\n\n  File \"/usr/local/lib/python3.10/dist-packages/keras/src/ops/function.py\", line 171, in _run_through_graph\n\n  File \"/usr/local/lib/python3.10/dist-packages/keras/src/models/functional.py\", line 560, in call\n\n  File \"/usr/local/lib/python3.10/dist-packages/keras/src/utils/traceback_utils.py\", line 117, in error_handler\n\n  File \"/usr/local/lib/python3.10/dist-packages/keras/src/layers/layer.py\", line 901, in __call__\n\n  File \"/usr/local/lib/python3.10/dist-packages/keras/src/utils/traceback_utils.py\", line 117, in error_handler\n\n  File \"/usr/local/lib/python3.10/dist-packages/keras/src/ops/operation.py\", line 46, in __call__\n\n  File \"/usr/local/lib/python3.10/dist-packages/keras/src/utils/traceback_utils.py\", line 156, in error_handler\n\n  File \"/usr/local/lib/python3.10/dist-packages/keras/src/layers/rnn/time_distributed.py\", line 108, in call\n\n  File \"/usr/local/lib/python3.10/dist-packages/keras/src/layers/rnn/time_distributed.py\", line 108, in <listcomp>\n\n  File \"/usr/local/lib/python3.10/dist-packages/keras/src/layers/rnn/time_distributed.py\", line 102, in step_function\n\n  File \"/usr/local/lib/python3.10/dist-packages/keras/src/layers/reshaping/flatten.py\", line 54, in call\n\n  File \"/usr/local/lib/python3.10/dist-packages/keras/src/ops/numpy.py\", line 4440, in reshape\n\n  File \"/usr/local/lib/python3.10/dist-packages/keras/src/backend/tensorflow/numpy.py\", line 1789, in reshape\n\n2 root error(s) found.\n  (0) INVALID_ARGUMENT:  Only one input size may be -1, not both 0 and 1\n\t [[{{node sequential_1/time_distributed_1/Reshape_8}}]]\n\t [[StatefulPartitionedCall/compile_loss/ctc_loss/ArithmeticOptimizer/ReorderCastLikeAndValuePreserving_int32_Squeeze_1/_78]]\n  (1) INVALID_ARGUMENT:  Only one input size may be -1, not both 0 and 1\n\t [[{{node sequential_1/time_distributed_1/Reshape_8}}]]\n0 successful operations.\n0 derived errors ignored. [Op:__inference_one_step_on_iterator_30200]"
          ]
        }
      ],
      "execution_count": 51
    },
    {
      "cell_type": "markdown",
      "source": [
        "make predictions using our model"
      ],
      "metadata": {
        "id": "okiADWlfpqPS"
      }
    },
    {
      "cell_type": "code",
      "source": [
        "model.load_weights('models/checkpoint.weights.h5')"
      ],
      "metadata": {
        "trusted": true,
        "id": "BAM-zAxApqPS"
      },
      "outputs": [],
      "execution_count": null
    },
    {
      "cell_type": "code",
      "source": [
        "test_data = test.as_numpy_iterator()"
      ],
      "metadata": {
        "trusted": true,
        "id": "pZ9jpIlwpqPS"
      },
      "outputs": [],
      "execution_count": null
    },
    {
      "cell_type": "code",
      "source": [
        "sample = test_data.next()"
      ],
      "metadata": {
        "trusted": true,
        "id": "u2t0RNZApqPS"
      },
      "outputs": [],
      "execution_count": null
    },
    {
      "cell_type": "code",
      "source": [
        "yhat = model.predict(sample[0])"
      ],
      "metadata": {
        "trusted": true,
        "id": "SIMs_xyCpqPT"
      },
      "outputs": [],
      "execution_count": null
    },
    {
      "cell_type": "code",
      "source": [
        "print('~'*100, 'REAL TEXT')\n",
        "[tf.strings.reduce_join([num_to_char(word) for word in sentence]) for sentence in sample[1]]"
      ],
      "metadata": {
        "trusted": true,
        "id": "ARYPn8VcpqPT"
      },
      "outputs": [],
      "execution_count": null
    },
    {
      "cell_type": "code",
      "source": [
        "decoded = tf.keras.backend.ctc_decode(yhat, input_length=[75,75], greedy=True)[0][0].numpy()"
      ],
      "metadata": {
        "trusted": true,
        "id": "RxQuj6tnpqPT"
      },
      "outputs": [],
      "execution_count": null
    },
    {
      "cell_type": "code",
      "source": [
        "print('~'*100, 'PREDICTIONS')\n",
        "[tf.strings.reduce_join([num_to_char(word) for word in sentence]) for sentence in decoded]"
      ],
      "metadata": {
        "trusted": true,
        "id": "_WlEtrhPpqPT"
      },
      "outputs": [],
      "execution_count": null
    },
    {
      "cell_type": "markdown",
      "source": [
        "test on a video"
      ],
      "metadata": {
        "id": "H7aV8x4opqPT"
      }
    },
    {
      "cell_type": "code",
      "source": [
        "sample = load_data(tf.convert_to_tensor('.\\\\data\\\\s1\\\\bras9a.mpg'))"
      ],
      "metadata": {
        "trusted": true,
        "id": "U31E7PyJpqPT"
      },
      "outputs": [],
      "execution_count": null
    },
    {
      "cell_type": "code",
      "source": [
        "print('~'*100, 'REAL TEXT')\n",
        "[tf.strings.reduce_join([num_to_char(word) for word in sentence]) for sentence in [sample[1]]]"
      ],
      "metadata": {
        "trusted": true,
        "id": "xh12h1DSpqPU"
      },
      "outputs": [],
      "execution_count": null
    },
    {
      "cell_type": "code",
      "source": [
        "yhat = model.predict(tf.expand_dims(sample[0], axis=0))"
      ],
      "metadata": {
        "trusted": true,
        "id": "BJWlG76upqPU"
      },
      "outputs": [],
      "execution_count": null
    },
    {
      "cell_type": "code",
      "source": [
        "decoded = tf.keras.backend.ctc_decode(yhat, input_length=[75], greedy=True)[0][0].numpy()"
      ],
      "metadata": {
        "trusted": true,
        "id": "1-_TAQnppqPU"
      },
      "outputs": [],
      "execution_count": null
    },
    {
      "cell_type": "code",
      "source": [
        "\n",
        "print('~'*100, 'PREDICTIONS')\n",
        "[tf.strings.reduce_join([num_to_char(word) for word in sentence]) for sentence in decoded]"
      ],
      "metadata": {
        "trusted": true,
        "id": "3wxUVjk3pqPU"
      },
      "outputs": [],
      "execution_count": null
    }
  ]
}